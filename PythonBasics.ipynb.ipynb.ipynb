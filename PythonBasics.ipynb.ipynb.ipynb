{
 "cells": [
  {
   "cell_type": "code",
   "execution_count": 1,
   "id": "1c9806e6-4d76-4628-b54d-a7c88be8a4f1",
   "metadata": {},
   "outputs": [
    {
     "data": {
      "text/plain": [
       "2"
      ]
     },
     "execution_count": 1,
     "metadata": {},
     "output_type": "execute_result"
    }
   ],
   "source": [
    "1+1"
   ]
  },
  {
   "cell_type": "code",
   "execution_count": 2,
   "id": "eb72d8e8-536f-463f-80fa-0b3a2be60df9",
   "metadata": {},
   "outputs": [
    {
     "data": {
      "text/plain": [
       "204754"
      ]
     },
     "execution_count": 2,
     "metadata": {},
     "output_type": "execute_result"
    }
   ],
   "source": [
    "82*2497"
   ]
  },
  {
   "cell_type": "code",
   "execution_count": 3,
   "id": "469a8391-39ac-458b-8a49-cb3ca4537c87",
   "metadata": {},
   "outputs": [],
   "source": [
    "anu=10"
   ]
  },
  {
   "cell_type": "code",
   "execution_count": 4,
   "id": "a7f481b9-cee6-47da-a269-778f68222456",
   "metadata": {},
   "outputs": [
    {
     "data": {
      "text/plain": [
       "10"
      ]
     },
     "execution_count": 4,
     "metadata": {},
     "output_type": "execute_result"
    }
   ],
   "source": [
    "anu"
   ]
  },
  {
   "cell_type": "code",
   "execution_count": 5,
   "id": "70a7cc19-d4b8-4dfd-b9b6-b6dff17a0857",
   "metadata": {},
   "outputs": [
    {
     "data": {
      "text/plain": [
       "int"
      ]
     },
     "execution_count": 5,
     "metadata": {},
     "output_type": "execute_result"
    }
   ],
   "source": [
    "type(anu)"
   ]
  },
  {
   "cell_type": "code",
   "execution_count": 6,
   "id": "ab65a506-9bfc-4a36-a261-c1ee92f148ea",
   "metadata": {},
   "outputs": [],
   "source": [
    "a=\"meh\""
   ]
  },
  {
   "cell_type": "code",
   "execution_count": 7,
   "id": "62130f96-202b-4cfa-9e74-3b5955849316",
   "metadata": {},
   "outputs": [
    {
     "data": {
      "text/plain": [
       "'meh'"
      ]
     },
     "execution_count": 7,
     "metadata": {},
     "output_type": "execute_result"
    }
   ],
   "source": [
    "a"
   ]
  },
  {
   "cell_type": "code",
   "execution_count": 8,
   "id": "9ff045e6-36c0-4168-921d-5fe948341387",
   "metadata": {},
   "outputs": [],
   "source": [
    "b='me'"
   ]
  },
  {
   "cell_type": "code",
   "execution_count": 9,
   "id": "5968fd47-fae0-4a92-a2fa-508ee3378288",
   "metadata": {},
   "outputs": [
    {
     "data": {
      "text/plain": [
       "'me'"
      ]
     },
     "execution_count": 9,
     "metadata": {},
     "output_type": "execute_result"
    }
   ],
   "source": [
    "b"
   ]
  },
  {
   "cell_type": "code",
   "execution_count": 10,
   "id": "fe30c6fa-9130-4ef9-bee6-a7bacf2c6196",
   "metadata": {},
   "outputs": [
    {
     "data": {
      "text/plain": [
       "str"
      ]
     },
     "execution_count": 10,
     "metadata": {},
     "output_type": "execute_result"
    }
   ],
   "source": [
    "type(a)\n",
    "type(b)"
   ]
  },
  {
   "cell_type": "code",
   "execution_count": 11,
   "id": "a6f1d8d5-eee4-4ce8-8459-2f9e8d88bafd",
   "metadata": {},
   "outputs": [
    {
     "data": {
      "text/plain": [
       "str"
      ]
     },
     "execution_count": 11,
     "metadata": {},
     "output_type": "execute_result"
    }
   ],
   "source": [
    "type(a)"
   ]
  },
  {
   "cell_type": "code",
   "execution_count": 12,
   "id": "99b31d87-2d97-46da-9dba-42e4774fe325",
   "metadata": {},
   "outputs": [
    {
     "data": {
      "text/plain": [
       "'me'"
      ]
     },
     "execution_count": 12,
     "metadata": {},
     "output_type": "execute_result"
    }
   ],
   "source": [
    "a\n",
    "b"
   ]
  },
  {
   "cell_type": "code",
   "execution_count": 13,
   "id": "29a9bd9f-be0a-415c-89d1-f4dbadfc9419",
   "metadata": {},
   "outputs": [],
   "source": [
    "b1=True\n",
    "b2=False"
   ]
  },
  {
   "cell_type": "code",
   "execution_count": 14,
   "id": "872199a8-dd8c-4986-a9f3-49215969957c",
   "metadata": {},
   "outputs": [
    {
     "data": {
      "text/plain": [
       "True"
      ]
     },
     "execution_count": 14,
     "metadata": {},
     "output_type": "execute_result"
    }
   ],
   "source": [
    "b1"
   ]
  },
  {
   "cell_type": "code",
   "execution_count": 15,
   "id": "7535bb8e-215c-4860-99b4-5ddc53dd555e",
   "metadata": {},
   "outputs": [
    {
     "data": {
      "text/plain": [
       "2"
      ]
     },
     "execution_count": 15,
     "metadata": {},
     "output_type": "execute_result"
    }
   ],
   "source": [
    "b3=True\n",
    "b1+b3"
   ]
  },
  {
   "cell_type": "code",
   "execution_count": 16,
   "id": "5d7db279-2ab2-4880-a664-c049de268e6b",
   "metadata": {},
   "outputs": [
    {
     "data": {
      "text/plain": [
       "(5+8j)"
      ]
     },
     "execution_count": 16,
     "metadata": {},
     "output_type": "execute_result"
    }
   ],
   "source": [
    "c1=5+8j\n",
    "c1"
   ]
  },
  {
   "cell_type": "code",
   "execution_count": 17,
   "id": "c18f7aea-8ab3-4046-a0aa-4deb558675dd",
   "metadata": {},
   "outputs": [
    {
     "data": {
      "text/plain": [
       "(6+9j)"
      ]
     },
     "execution_count": 17,
     "metadata": {},
     "output_type": "execute_result"
    }
   ],
   "source": [
    "c2=6+9J\n",
    "c2"
   ]
  },
  {
   "cell_type": "code",
   "execution_count": 18,
   "id": "40feb711-4b7c-4824-b885-46caed773e56",
   "metadata": {},
   "outputs": [
    {
     "data": {
      "text/plain": [
       "complex"
      ]
     },
     "execution_count": 18,
     "metadata": {},
     "output_type": "execute_result"
    }
   ],
   "source": [
    "type(c2)"
   ]
  },
  {
   "cell_type": "code",
   "execution_count": 19,
   "id": "6bfbec36-1e77-4aa5-a330-c4262dd0a45c",
   "metadata": {},
   "outputs": [
    {
     "data": {
      "text/plain": [
       "5.0"
      ]
     },
     "execution_count": 19,
     "metadata": {},
     "output_type": "execute_result"
    }
   ],
   "source": [
    "c1.real"
   ]
  },
  {
   "cell_type": "code",
   "execution_count": 22,
   "id": "210f23ba-a7a5-46cf-87d2-cd66eff0ffa1",
   "metadata": {},
   "outputs": [
    {
     "data": {
      "text/plain": [
       "8.0"
      ]
     },
     "execution_count": 22,
     "metadata": {},
     "output_type": "execute_result"
    }
   ],
   "source": [
    "c1.imag"
   ]
  },
  {
   "cell_type": "code",
   "execution_count": 53,
   "id": "2bcbab76-21e2-42e1-a70f-b45213d3b734",
   "metadata": {},
   "outputs": [],
   "source": [
    "#string slicing\n",
    "# 0 1 2\n",
    "s=\"anushka gupta claws\"\n",
    "#-3-2-1"
   ]
  },
  {
   "cell_type": "code",
   "execution_count": 25,
   "id": "96a0fed6-2e7c-4164-bc86-ab5076d5b4cb",
   "metadata": {},
   "outputs": [
    {
     "data": {
      "text/plain": [
       "'a'"
      ]
     },
     "execution_count": 25,
     "metadata": {},
     "output_type": "execute_result"
    }
   ],
   "source": [
    "s[0]"
   ]
  },
  {
   "cell_type": "code",
   "execution_count": 26,
   "id": "d30e7826-17a9-43fd-8c4c-64c50ad6e931",
   "metadata": {},
   "outputs": [
    {
     "data": {
      "text/plain": [
       "'n'"
      ]
     },
     "execution_count": 26,
     "metadata": {},
     "output_type": "execute_result"
    }
   ],
   "source": [
    "s[-2]"
   ]
  },
  {
   "cell_type": "code",
   "execution_count": 27,
   "id": "1fb709bd-b0a0-45da-bda2-c9310504ce02",
   "metadata": {},
   "outputs": [
    {
     "data": {
      "text/plain": [
       "'anu'"
      ]
     },
     "execution_count": 27,
     "metadata": {},
     "output_type": "execute_result"
    }
   ],
   "source": [
    "#emd index exclusive\n",
    "s[0:3]"
   ]
  },
  {
   "cell_type": "code",
   "execution_count": 29,
   "id": "cc2ef173-33fa-451c-ba77-253fd469c852",
   "metadata": {},
   "outputs": [
    {
     "data": {
      "text/plain": [
       "'au'"
      ]
     },
     "execution_count": 29,
     "metadata": {},
     "output_type": "execute_result"
    }
   ],
   "source": [
    "#jumps\n",
    "s[0:3:2]"
   ]
  },
  {
   "cell_type": "code",
   "execution_count": 31,
   "id": "25c29382-8ec1-4881-ac07-d8aa62b380a5",
   "metadata": {},
   "outputs": [
    {
     "data": {
      "text/plain": [
       "'una'"
      ]
     },
     "execution_count": 31,
     "metadata": {},
     "output_type": "execute_result"
    }
   ],
   "source": [
    "# s[::-1] means jumping in negative direction by this we can print the reverse string\n",
    "s[::-1]"
   ]
  },
  {
   "cell_type": "code",
   "execution_count": 34,
   "id": "860e1f69-29ad-41f3-88d6-ff4c7b30e3ea",
   "metadata": {},
   "outputs": [
    {
     "data": {
      "text/plain": [
       "'anushkagupta'"
      ]
     },
     "execution_count": 34,
     "metadata": {},
     "output_type": "execute_result"
    }
   ],
   "source": [
    "s"
   ]
  },
  {
   "cell_type": "code",
   "execution_count": 35,
   "id": "ecd71264-2ede-47e0-a113-34ec1971dfbb",
   "metadata": {},
   "outputs": [
    {
     "data": {
      "text/plain": [
       "'atpugakhsuna'"
      ]
     },
     "execution_count": 35,
     "metadata": {},
     "output_type": "execute_result"
    }
   ],
   "source": [
    "#if not given start and given jump negative then interpreter will start execution from last or -1 index\n",
    "s[::-1]"
   ]
  },
  {
   "cell_type": "code",
   "execution_count": 36,
   "id": "9f9fcf68-1e4f-4936-b08a-aba51c512175",
   "metadata": {},
   "outputs": [
    {
     "data": {
      "text/plain": [
       "''"
      ]
     },
     "execution_count": 36,
     "metadata": {},
     "output_type": "execute_result"
    }
   ],
   "source": [
    "#s[2:7:-1] will return null because we are trying to go back and forward simultaniously\n",
    "s[2:7:-1]"
   ]
  },
  {
   "cell_type": "code",
   "execution_count": 38,
   "id": "cf3a329d-0f56-4e7d-bfed-92b1afd70a04",
   "metadata": {},
   "outputs": [
    {
     "data": {
      "text/plain": [
       "'khsuna'"
      ]
     },
     "execution_count": 38,
     "metadata": {},
     "output_type": "execute_result"
    }
   ],
   "source": [
    "s[5::-1]"
   ]
  },
  {
   "cell_type": "code",
   "execution_count": 39,
   "id": "0d0d4e9d-42aa-450b-91d3-780f2f02b406",
   "metadata": {},
   "outputs": [
    {
     "data": {
      "text/plain": [
       "''"
      ]
     },
     "execution_count": 39,
     "metadata": {},
     "output_type": "execute_result"
    }
   ],
   "source": [
    "#s[8:0:] will return null because we are trying to go back and forward simultaniously since by default jump is +1\n",
    "s[8:0:]"
   ]
  },
  {
   "cell_type": "code",
   "execution_count": 66,
   "id": "f007039d-0262-42cd-bbe2-d21e16767633",
   "metadata": {},
   "outputs": [
    {
     "data": {
      "text/plain": [
       "'G AKHSUN'"
      ]
     },
     "execution_count": 66,
     "metadata": {},
     "output_type": "execute_result"
    }
   ],
   "source": [
    "#even you can use string methods with sliced string\n",
    "s[8:0:-1].upper()"
   ]
  },
  {
   "cell_type": "code",
   "execution_count": 41,
   "id": "9abbc10e-3956-4e95-b801-21733be59967",
   "metadata": {},
   "outputs": [
    {
     "data": {
      "text/plain": [
       "''"
      ]
     },
     "execution_count": 41,
     "metadata": {},
     "output_type": "execute_result"
    }
   ],
   "source": [
    "s[0:8:-1]"
   ]
  },
  {
   "cell_type": "code",
   "execution_count": 42,
   "id": "ec523c02-bc1d-4294-8691-f2acec289474",
   "metadata": {},
   "outputs": [
    {
     "data": {
      "text/plain": [
       "'atpugakhsuna'"
      ]
     },
     "execution_count": 42,
     "metadata": {},
     "output_type": "execute_result"
    }
   ],
   "source": [
    "#in indexing value but not in slicing matters of inside brackets like s[90] will show error but s[:-90:-1] wont show err\n",
    "s[:-90:-1]"
   ]
  },
  {
   "cell_type": "code",
   "execution_count": 43,
   "id": "5f470943-d387-4cf7-9564-cc705c64c1a2",
   "metadata": {},
   "outputs": [
    {
     "data": {
      "text/plain": [
       "''"
      ]
     },
     "execution_count": 43,
     "metadata": {},
     "output_type": "execute_result"
    }
   ],
   "source": [
    "s[:-90:]"
   ]
  },
  {
   "cell_type": "code",
   "execution_count": 44,
   "id": "d92ce604-294f-47d7-8842-dfafc320bdfd",
   "metadata": {},
   "outputs": [
    {
     "data": {
      "text/plain": [
       "12"
      ]
     },
     "execution_count": 44,
     "metadata": {},
     "output_type": "execute_result"
    }
   ],
   "source": [
    "#string methods \n",
    "len(s)"
   ]
  },
  {
   "cell_type": "code",
   "execution_count": 47,
   "id": "7886d041-3111-43f6-90e2-31e0b3191588",
   "metadata": {},
   "outputs": [
    {
     "data": {
      "text/plain": [
       "0"
      ]
     },
     "execution_count": 47,
     "metadata": {},
     "output_type": "execute_result"
    }
   ],
   "source": [
    "# find will return the index of first occurence\n",
    "s.find('a')"
   ]
  },
  {
   "cell_type": "code",
   "execution_count": 48,
   "id": "ef6af135-af4c-428c-91b5-a4233da90207",
   "metadata": {},
   "outputs": [
    {
     "data": {
      "text/plain": [
       "3"
      ]
     },
     "execution_count": 48,
     "metadata": {},
     "output_type": "execute_result"
    }
   ],
   "source": [
    "#count will return frequency of a letter\n",
    "s.count(\"a\")"
   ]
  },
  {
   "cell_type": "code",
   "execution_count": 49,
   "id": "f269ab62-2b06-4791-82e4-47a83439b0fa",
   "metadata": {},
   "outputs": [
    {
     "data": {
      "text/plain": [
       "'ANUSHKAGUPTA'"
      ]
     },
     "execution_count": 49,
     "metadata": {},
     "output_type": "execute_result"
    }
   ],
   "source": [
    "#uppercase\n",
    "s.upper()"
   ]
  },
  {
   "cell_type": "code",
   "execution_count": 54,
   "id": "584d23f4-6498-449d-936e-d908da0e8289",
   "metadata": {},
   "outputs": [
    {
     "data": {
      "text/plain": [
       "'Anushka gupta claws'"
      ]
     },
     "execution_count": 54,
     "metadata": {},
     "output_type": "execute_result"
    }
   ],
   "source": [
    "#will capitalize only first word's first letter\n",
    "s.capitalize()"
   ]
  },
  {
   "cell_type": "code",
   "execution_count": 51,
   "id": "4aa4c62d-50df-4f23-84cb-9d09eb10e8a3",
   "metadata": {},
   "outputs": [
    {
     "data": {
      "text/plain": [
       "'anushkagupta'"
      ]
     },
     "execution_count": 51,
     "metadata": {},
     "output_type": "execute_result"
    }
   ],
   "source": [
    "s.lower()"
   ]
  },
  {
   "cell_type": "code",
   "execution_count": 55,
   "id": "ffd77f85-ed7b-4f62-bc23-de8d51aab5e6",
   "metadata": {},
   "outputs": [
    {
     "data": {
      "text/plain": [
       "'Anushka Gupta Claws'"
      ]
     },
     "execution_count": 55,
     "metadata": {},
     "output_type": "execute_result"
    }
   ],
   "source": [
    "#will convert in title\n",
    "s.title()"
   ]
  },
  {
   "cell_type": "code",
   "execution_count": 60,
   "id": "fbcf71a9-6bd4-4725-9257-bd9b277b1824",
   "metadata": {},
   "outputs": [
    {
     "data": {
      "text/plain": [
       "'anushka gupta claws great'"
      ]
     },
     "execution_count": 60,
     "metadata": {},
     "output_type": "execute_result"
    }
   ],
   "source": [
    "#typecast -- str(1) will convert 1 to \"1\"\n",
    "#+ is a concatination operation will work only on similar datatype s+1 will through err.\n",
    "#* will repeate the string given number of times\n",
    "# / will through err in case of str\n",
    "s1=\" great\"\n",
    "s+s1"
   ]
  },
  {
   "cell_type": "code",
   "execution_count": 57,
   "id": "67f80df2-adc3-426b-8ae6-cf2145943c00",
   "metadata": {},
   "outputs": [
    {
     "data": {
      "text/plain": [
       "'anushka gupta claws3'"
      ]
     },
     "execution_count": 57,
     "metadata": {},
     "output_type": "execute_result"
    }
   ],
   "source": [
    "s+\"3\""
   ]
  },
  {
   "cell_type": "code",
   "execution_count": 61,
   "id": "57c65902-3651-494c-ad94-a9dc60dcb16c",
   "metadata": {},
   "outputs": [
    {
     "data": {
      "text/plain": [
       "'anushka gupta claws67'"
      ]
     },
     "execution_count": 61,
     "metadata": {},
     "output_type": "execute_result"
    }
   ],
   "source": [
    "s+str(67)"
   ]
  },
  {
   "cell_type": "code",
   "execution_count": 62,
   "id": "6c90f71e-7671-46e0-9499-28977de39a32",
   "metadata": {},
   "outputs": [
    {
     "data": {
      "text/plain": [
       "' great great great great'"
      ]
     },
     "execution_count": 62,
     "metadata": {},
     "output_type": "execute_result"
    }
   ],
   "source": [
    "s1*4"
   ]
  },
  {
   "cell_type": "code",
   "execution_count": 63,
   "id": "68ee3fed-b796-4460-9a7c-5d105677eec3",
   "metadata": {},
   "outputs": [
    {
     "data": {
      "text/plain": [
       "\"don't fuck anyone you know do it with random\""
      ]
     },
     "execution_count": 63,
     "metadata": {},
     "output_type": "execute_result"
    }
   ],
   "source": [
    "#escape character for writing don't in str use double quote outside eg- 'don't' will show err\n",
    "\"don't fk anyone you know do it with random\""
   ]
  },
  {
   "cell_type": "code",
   "execution_count": 64,
   "id": "dc07a0f4-6798-441c-9d8d-4081c673e398",
   "metadata": {},
   "outputs": [
    {
     "data": {
      "text/plain": [
       "'don\"t fk anyone you know do it with random'"
      ]
     },
     "execution_count": 64,
     "metadata": {},
     "output_type": "execute_result"
    }
   ],
   "source": [
    "'don\"t fk anyone you know do it with random'"
   ]
  },
  {
   "cell_type": "code",
   "execution_count": null,
   "id": "ed2c1cc9-b8f4-4beb-90dd-c017c92a0a41",
   "metadata": {},
   "outputs": [],
   "source": [
    "# multiline comment is \"\"\"heya\"\"\" and '''heya'''"
   ]
  }
 ],
 "metadata": {
  "kernelspec": {
   "display_name": "Python 3 (ipykernel)",
   "language": "python",
   "name": "python3"
  },
  "language_info": {
   "codemirror_mode": {
    "name": "ipython",
    "version": 3
   },
   "file_extension": ".py",
   "mimetype": "text/x-python",
   "name": "python",
   "nbconvert_exporter": "python",
   "pygments_lexer": "ipython3",
   "version": "3.10.8"
  }
 },
 "nbformat": 4,
 "nbformat_minor": 5
}
