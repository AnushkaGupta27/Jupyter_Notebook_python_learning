{
 "cells": [
  {
   "cell_type": "code",
   "execution_count": 1,
   "id": "a8536dac-0c2d-432d-ade2-0793f2abef7c",
   "metadata": {},
   "outputs": [
    {
     "data": {
      "text/plain": [
       "[1, 9, 25, 81, 4, 64, 100]"
      ]
     },
     "execution_count": 1,
     "metadata": {},
     "output_type": "execute_result"
    }
   ],
   "source": [
    "#short form of loop is basically can be called as comprehension for various data structures\n",
    "#to simple print squares of all elements of a list we use--\n",
    "l=[1,3,5,9,2,8,10]\n",
    "l1=[]\n",
    "for i in l:\n",
    "    l1.append(i**2)\n",
    "l1"
   ]
  },
  {
   "cell_type": "code",
   "execution_count": 2,
   "id": "8362476a-921b-44f0-8f1d-0233bb6ce9aa",
   "metadata": {},
   "outputs": [
    {
     "data": {
      "text/plain": [
       "[1, 9, 25, 81, 4, 64, 100]"
      ]
     },
     "execution_count": 2,
     "metadata": {},
     "output_type": "execute_result"
    }
   ],
   "source": [
    "#but by using list comprehension we can doit in one line only\n",
    "#list comprehension--\n",
    "[i**2 for i in l]"
   ]
  },
  {
   "cell_type": "code",
   "execution_count": 3,
   "id": "93af092b-9128-4df8-9e1b-13ae0b3693cd",
   "metadata": {},
   "outputs": [
    {
     "data": {
      "text/plain": [
       "[2, 8, 10]"
      ]
     },
     "execution_count": 3,
     "metadata": {},
     "output_type": "execute_result"
    }
   ],
   "source": [
    "#print only even numbers of the list\n",
    "[i for i in l if i%2==0]"
   ]
  },
  {
   "cell_type": "code",
   "execution_count": 4,
   "id": "d3adbd1f-e316-4612-bd9a-000f346b93ee",
   "metadata": {},
   "outputs": [
    {
     "data": {
      "text/plain": [
       "['ANUSHKA', 'GUPTA', 'SUHEL', 'TYAGI']"
      ]
     },
     "execution_count": 4,
     "metadata": {},
     "output_type": "execute_result"
    }
   ],
   "source": [
    "s=[\"anushka\",\"gupta\",\"suhel\",\"tyagi\"]\n",
    "[i.upper() for i in s]"
   ]
  },
  {
   "cell_type": "code",
   "execution_count": 5,
   "id": "02ace0eb-4469-4c33-910f-270249d54a01",
   "metadata": {},
   "outputs": [
    {
     "data": {
      "text/plain": [
       "{'k1': 1, 'k2': 3, 'k3': 7}"
      ]
     },
     "execution_count": 5,
     "metadata": {},
     "output_type": "execute_result"
    }
   ],
   "source": [
    "#dictionary comprehension--\n",
    "d={\"k1\":1,\"k2\":3,\"k3\":7}\n",
    "{k:v for k,v in d.items()}"
   ]
  },
  {
   "cell_type": "code",
   "execution_count": 6,
   "id": "8cd06fa5-80ff-46a4-b564-07c01774f160",
   "metadata": {},
   "outputs": [
    {
     "data": {
      "text/plain": [
       "{'k1': 1, 'k2': 27, 'k3': 343}"
      ]
     },
     "execution_count": 6,
     "metadata": {},
     "output_type": "execute_result"
    }
   ],
   "source": [
    "{k:v**3 for k,v in d.items()}"
   ]
  },
  {
   "cell_type": "code",
   "execution_count": 7,
   "id": "0dc80746-d410-493a-91ff-464271b7a8ac",
   "metadata": {},
   "outputs": [
    {
     "data": {
      "text/plain": [
       "{'k2': 3, 'k3': 7}"
      ]
     },
     "execution_count": 7,
     "metadata": {},
     "output_type": "execute_result"
    }
   ],
   "source": [
    "{k:v for k,v in d.items() if v>2}"
   ]
  },
  {
   "cell_type": "code",
   "execution_count": null,
   "id": "0f62dea2-e8ff-4417-9e22-2ef18376f16c",
   "metadata": {},
   "outputs": [],
   "source": []
  }
 ],
 "metadata": {
  "kernelspec": {
   "display_name": "Python 3 (ipykernel)",
   "language": "python",
   "name": "python3"
  },
  "language_info": {
   "codemirror_mode": {
    "name": "ipython",
    "version": 3
   },
   "file_extension": ".py",
   "mimetype": "text/x-python",
   "name": "python",
   "nbconvert_exporter": "python",
   "pygments_lexer": "ipython3",
   "version": "3.10.8"
  }
 },
 "nbformat": 4,
 "nbformat_minor": 5
}
