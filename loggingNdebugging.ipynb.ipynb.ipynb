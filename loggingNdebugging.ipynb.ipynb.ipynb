{
 "cells": [
  {
   "cell_type": "markdown",
   "id": "a142849c-ed3d-4017-8c90-fc45899bcdc3",
   "metadata": {},
   "source": [
    "logging and debugging"
   ]
  },
  {
   "cell_type": "code",
   "execution_count": 7,
   "id": "7c9aacab-cf8d-44c4-8d5b-930505ea1987",
   "metadata": {},
   "outputs": [
    {
     "name": "stdout",
     "output_type": "stream",
     "text": [
      "/home/jovyan\n"
     ]
    }
   ],
   "source": [
    "cd /home/jovyan"
   ]
  },
  {
   "cell_type": "code",
   "execution_count": 8,
   "id": "5f6fc7f2-2c97-435e-a7a4-783e7a73546a",
   "metadata": {},
   "outputs": [],
   "source": [
    "import logging\n",
    "logging.basicConfig(filename=\"sec1log.log\", level=logging.DEBUG, format='%(asctime)s %(name)s %(levelname)s %(message)s')\n",
    "logging.error(\"errror errorred!\")\n",
    "logging.debug(\"debug yur code!\")\n",
    "logging.warning(\"im warned\")\n",
    "logging.error(\"basic error\")"
   ]
  },
  {
   "cell_type": "code",
   "execution_count": 13,
   "id": "0c193d54-d390-4b57-bac1-3a44f13cc82f",
   "metadata": {},
   "outputs": [
    {
     "data": {
      "text/plain": [
       "[32, 45, 245, 526, 252, 25, 65, 90]"
      ]
     },
     "execution_count": 13,
     "metadata": {},
     "output_type": "execute_result"
    }
   ],
   "source": [
    "#using logging thorugh a example--\n",
    "l=[32,45,245,526,[252,25,65,90,\"nauhsla\"],\"anushka\",True,\"gupta\"]\n",
    "l_int=[]\n",
    "l_str=[]\n",
    "#seperate int and str in 2 seperate lists:\n",
    "for i in l:\n",
    "    logging.info(\"we are inside loop just now\" + str(l))\n",
    "    if type(i)==list:\n",
    "        logging.info(\"checking for if a it is a list?\")\n",
    "        for j in i:\n",
    "            if type(j)== str:\n",
    "                logging.info(\"checking if inside list here str at \"+str(j))\n",
    "                l_str.append(j)\n",
    "            elif type(j)==int:\n",
    "                logging.info(\"indide 2 ifs and checking for int inside the list\")\n",
    "                l_int.append(j)\n",
    "    elif type(i)==int:\n",
    "        logging.info(\"checkign if int inside the main list\")\n",
    "        l_int.append(i)\n",
    "    else:\n",
    "        if type(i)==str:\n",
    "            logging.info(\"checking if str inside the main lsut\")\n",
    "            l_str.append(i)\n",
    "logging.info(\"my final ans for int is {l2} and for str is {l1}\".format(l1=l_int, l2=l_str))\n",
    "l_int"
   ]
  },
  {
   "cell_type": "code",
   "execution_count": 4,
   "id": "b6564e94-8024-4693-a6d3-bd88ed92ab4e",
   "metadata": {},
   "outputs": [
    {
     "data": {
      "text/plain": [
       "['nauhsla', 'anushka', 'gupta']"
      ]
     },
     "execution_count": 4,
     "metadata": {},
     "output_type": "execute_result"
    }
   ],
   "source": [
    "l_str"
   ]
  },
  {
   "cell_type": "code",
   "execution_count": null,
   "id": "0731e059-b2c3-45c1-a4c5-cdf351bd2a16",
   "metadata": {},
   "outputs": [],
   "source": []
  },
  {
   "cell_type": "code",
   "execution_count": null,
   "id": "178a0172-5f61-470c-9735-6cfd5068786b",
   "metadata": {},
   "outputs": [],
   "source": []
  }
 ],
 "metadata": {
  "kernelspec": {
   "display_name": "Python 3 (ipykernel)",
   "language": "python",
   "name": "python3"
  },
  "language_info": {
   "codemirror_mode": {
    "name": "ipython",
    "version": 3
   },
   "file_extension": ".py",
   "mimetype": "text/x-python",
   "name": "python",
   "nbconvert_exporter": "python",
   "pygments_lexer": "ipython3",
   "version": "3.10.8"
  }
 },
 "nbformat": 4,
 "nbformat_minor": 5
}
