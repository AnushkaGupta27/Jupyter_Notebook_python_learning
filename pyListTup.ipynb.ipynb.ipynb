{
 "cells": [
  {
   "cell_type": "code",
   "execution_count": 1,
   "id": "49c294c5-9742-4ffe-b3aa-bff49d56023a",
   "metadata": {},
   "outputs": [
    {
     "data": {
      "text/plain": [
       "list"
      ]
     },
     "execution_count": 1,
     "metadata": {},
     "output_type": "execute_result"
    }
   ],
   "source": [
    "#list it can store all the data types of elements even list can store non primitive or a list can store another list,tuple also\n",
    "/# list is a non primitive data set \n",
    "l=[45,\"anu\",24.32,True,3+4j,'auaa']\n",
    "type(l)"
   ]
  },
  {
   "cell_type": "code",
   "execution_count": 2,
   "id": "229d6dab-7476-45be-9a00-163b76d331ff",
   "metadata": {},
   "outputs": [
    {
     "data": {
      "text/plain": [
       "[45, 'anu', 24.32, True, (3+4j), 'auaa']"
      ]
     },
     "execution_count": 2,
     "metadata": {},
     "output_type": "execute_result"
    }
   ],
   "source": [
    "l"
   ]
  },
  {
   "cell_type": "code",
   "execution_count": 3,
   "id": "91c8956b-c65d-4e33-8844-2ab048c65c7a",
   "metadata": {},
   "outputs": [
    {
     "data": {
      "text/plain": [
       "'anu'"
      ]
     },
     "execution_count": 3,
     "metadata": {},
     "output_type": "execute_result"
    }
   ],
   "source": [
    "#we can apply indexing and slicing concept of strings in list also\n",
    "l[1]"
   ]
  },
  {
   "cell_type": "code",
   "execution_count": 4,
   "id": "dcfe4c31-7d5f-4ea0-8398-eb95039ddd00",
   "metadata": {},
   "outputs": [
    {
     "data": {
      "text/plain": [
       "1"
      ]
     },
     "execution_count": 4,
     "metadata": {},
     "output_type": "execute_result"
    }
   ],
   "source": [
    "l[1].find('n')"
   ]
  },
  {
   "cell_type": "code",
   "execution_count": 5,
   "id": "7a6e0295-8983-4afb-b4a2-9255f9603748",
   "metadata": {},
   "outputs": [
    {
     "data": {
      "text/plain": [
       "['auaa', (3+4j), True, 24.32, 'anu', 45]"
      ]
     },
     "execution_count": 5,
     "metadata": {},
     "output_type": "execute_result"
    }
   ],
   "source": [
    "l[::-1]"
   ]
  },
  {
   "cell_type": "code",
   "execution_count": 6,
   "id": "f6d38b16-054e-408a-8c53-405601365849",
   "metadata": {},
   "outputs": [
    {
     "data": {
      "text/plain": [
       "[45, 24.32, (3+4j)]"
      ]
     },
     "execution_count": 6,
     "metadata": {},
     "output_type": "execute_result"
    }
   ],
   "source": [
    "#data at even indexes\n",
    "l[0:5:2]"
   ]
  },
  {
   "cell_type": "code",
   "execution_count": 7,
   "id": "802af127-54ea-4c15-ae80-9e167fe75122",
   "metadata": {},
   "outputs": [],
   "source": [
    "#list and str cant be concatenated wwe can add a string to list after onverting str to list\n",
    "s='anushka'"
   ]
  },
  {
   "cell_type": "code",
   "execution_count": 8,
   "id": "d884ee94-a715-4b70-b2d9-b1076be272ff",
   "metadata": {},
   "outputs": [
    {
     "data": {
      "text/plain": [
       "['a', 'n', 'u', 's', 'h', 'k', 'a', 45, 'anu', 24.32, True, (3+4j), 'auaa']"
      ]
     },
     "execution_count": 8,
     "metadata": {},
     "output_type": "execute_result"
    }
   ],
   "source": [
    "list(s)+l"
   ]
  },
  {
   "cell_type": "code",
   "execution_count": 9,
   "id": "73baccfc-6b90-454d-8aaf-328e54134385",
   "metadata": {},
   "outputs": [
    {
     "data": {
      "text/plain": [
       "'au'"
      ]
     },
     "execution_count": 9,
     "metadata": {},
     "output_type": "execute_result"
    }
   ],
   "source": [
    "l[5][0:2]"
   ]
  },
  {
   "cell_type": "code",
   "execution_count": 10,
   "id": "e196f231-6b50-4bd8-b7aa-78eff9837d59",
   "metadata": {},
   "outputs": [
    {
     "data": {
      "text/plain": [
       "[1, 2, 3, 4, 1, 2, 3, 4, 1, 2, 3, 4]"
      ]
     },
     "execution_count": 10,
     "metadata": {},
     "output_type": "execute_result"
    }
   ],
   "source": [
    "l1=[1,2,3,4]\n",
    "l1*3"
   ]
  },
  {
   "cell_type": "code",
   "execution_count": 11,
   "id": "2d400496-fd1b-4ac1-b60f-17234e46e9bc",
   "metadata": {},
   "outputs": [
    {
     "data": {
      "text/plain": [
       "4"
      ]
     },
     "execution_count": 11,
     "metadata": {},
     "output_type": "execute_result"
    }
   ],
   "source": [
    "len(l1)"
   ]
  },
  {
   "cell_type": "code",
   "execution_count": 12,
   "id": "81d32113-2ba8-40b8-9151-e95fa6181e7e",
   "metadata": {},
   "outputs": [
    {
     "data": {
      "text/plain": [
       "[1, 2, 3, 4, 8]"
      ]
     },
     "execution_count": 12,
     "metadata": {},
     "output_type": "execute_result"
    }
   ],
   "source": [
    "l1.append(8)\n",
    "l1"
   ]
  },
  {
   "cell_type": "code",
   "execution_count": 13,
   "id": "277bc18c-dab4-43f7-8b46-e4f9afda4611",
   "metadata": {},
   "outputs": [
    {
     "data": {
      "text/plain": [
       "[1, 2, 3, 4, 8, 'anushka']"
      ]
     },
     "execution_count": 13,
     "metadata": {},
     "output_type": "execute_result"
    }
   ],
   "source": [
    "l1.append(s)\n",
    "l1"
   ]
  },
  {
   "cell_type": "code",
   "execution_count": 14,
   "id": "999a046f-3622-4446-9870-7b5a6f290b6a",
   "metadata": {},
   "outputs": [
    {
     "data": {
      "text/plain": [
       "[45, 'anu', 24.32, True, (3+4j), 'auaa', [1, 2, 3, 4, 8, 'anushka']]"
      ]
     },
     "execution_count": 14,
     "metadata": {},
     "output_type": "execute_result"
    }
   ],
   "source": [
    "l.append(l1)\n",
    "l"
   ]
  },
  {
   "cell_type": "code",
   "execution_count": 15,
   "id": "8cc4c321-a167-4612-bed0-87b9284b5e68",
   "metadata": {},
   "outputs": [
    {
     "data": {
      "text/plain": [
       "[1, 2, 3, 4, 8, 'anushka', 'g', 'u', 'p', 't', 'a']"
      ]
     },
     "execution_count": 15,
     "metadata": {},
     "output_type": "execute_result"
    }
   ],
   "source": [
    "#extend method first breaks the data then puts in the list so only iterable data can be put inside extend\n",
    "s2=\"gupta\"\n",
    "l1.extend(s2)\n",
    "l1"
   ]
  },
  {
   "cell_type": "code",
   "execution_count": 16,
   "id": "156a65c4-7c7d-41f8-927a-5a4c8a78080e",
   "metadata": {},
   "outputs": [
    {
     "data": {
      "text/plain": [
       "[1, 4, 10, 5]"
      ]
     },
     "execution_count": 16,
     "metadata": {},
     "output_type": "execute_result"
    }
   ],
   "source": [
    "l2=[1,4,5]\n",
    "l2.insert(2,10)\n",
    "l2"
   ]
  },
  {
   "cell_type": "code",
   "execution_count": 17,
   "id": "db60e814-7aaf-447b-ba60-7cefbeb18793",
   "metadata": {},
   "outputs": [
    {
     "data": {
      "text/plain": [
       "[1, 4, 10, 'anu2', 5]"
      ]
     },
     "execution_count": 17,
     "metadata": {},
     "output_type": "execute_result"
    }
   ],
   "source": [
    "l2.insert(-1,\"anu2\")\n",
    "l2"
   ]
  },
  {
   "cell_type": "code",
   "execution_count": 18,
   "id": "5e1b30df-a89a-4aba-8f76-62525c92ab85",
   "metadata": {},
   "outputs": [
    {
     "data": {
      "text/plain": [
       "[1, 2, 3, 4, 8, 'anushka', 'g', 'u', 'p', 't']"
      ]
     },
     "execution_count": 18,
     "metadata": {},
     "output_type": "execute_result"
    }
   ],
   "source": [
    "l1.pop()#pop bydefault removes last index data, to remove specified index put inside paranthesis\n",
    "l1"
   ]
  },
  {
   "cell_type": "code",
   "execution_count": 19,
   "id": "424c7765-136b-4d65-973e-5ce3914936d8",
   "metadata": {},
   "outputs": [
    {
     "data": {
      "text/plain": [
       "[1, 4, 10, 'anu2']"
      ]
     },
     "execution_count": 19,
     "metadata": {},
     "output_type": "execute_result"
    }
   ],
   "source": [
    "l2.pop(4)\n",
    "l2"
   ]
  },
  {
   "cell_type": "code",
   "execution_count": 20,
   "id": "f0d20aa3-8e77-4bab-b3c6-524a605fea4f",
   "metadata": {},
   "outputs": [
    {
     "data": {
      "text/plain": [
       "[1, 4, 'anu2']"
      ]
     },
     "execution_count": 20,
     "metadata": {},
     "output_type": "execute_result"
    }
   ],
   "source": [
    "#remove works with value\n",
    "l2.remove(10)\n",
    "l2"
   ]
  },
  {
   "cell_type": "code",
   "execution_count": 21,
   "id": "9972f9f0-0492-405f-a84d-f458b98092e3",
   "metadata": {},
   "outputs": [
    {
     "data": {
      "text/plain": [
       "[45,\n",
       " 'anu',\n",
       " 24.32,\n",
       " True,\n",
       " (3+4j),\n",
       " 'auaa',\n",
       " [1, 2, 3, 4, 8, 'anushka', 'g', 'u', 'p', 't']]"
      ]
     },
     "execution_count": 21,
     "metadata": {},
     "output_type": "execute_result"
    }
   ],
   "source": [
    "l"
   ]
  },
  {
   "cell_type": "code",
   "execution_count": 22,
   "id": "bbe6ab49-935a-427d-aa75-fbefc5e42f9c",
   "metadata": {},
   "outputs": [
    {
     "data": {
      "text/plain": [
       "[45,\n",
       " 'anu',\n",
       " 24.32,\n",
       " True,\n",
       " (3+4j),\n",
       " 'auaa',\n",
       " [1, 2, 3, 4, 8, 'anushka', 'g', 'p', 't']]"
      ]
     },
     "execution_count": 22,
     "metadata": {},
     "output_type": "execute_result"
    }
   ],
   "source": [
    "l[6].remove('u')# remove dlts 1st occurence of object\n",
    "l"
   ]
  },
  {
   "cell_type": "code",
   "execution_count": 23,
   "id": "90783f06-4176-40df-a569-8d5241ebceb1",
   "metadata": {},
   "outputs": [],
   "source": [
    "#l[5][2].remove('a') will through err because str is immutable"
   ]
  },
  {
   "cell_type": "code",
   "execution_count": 24,
   "id": "869011d3-f46b-40c8-8f1c-c16328e9986f",
   "metadata": {},
   "outputs": [],
   "source": [
    "l1.reverse()#permanent reverse"
   ]
  },
  {
   "cell_type": "code",
   "execution_count": 25,
   "id": "8906a818-38a0-49f7-81fb-38baacb7a14c",
   "metadata": {},
   "outputs": [
    {
     "data": {
      "text/plain": [
       "['t', 'p', 'g', 'anushka', 8, 4, 3, 2, 1]"
      ]
     },
     "execution_count": 25,
     "metadata": {},
     "output_type": "execute_result"
    }
   ],
   "source": [
    "l1"
   ]
  },
  {
   "cell_type": "code",
   "execution_count": 26,
   "id": "2f1cef5c-a33f-40c4-b5ac-1266f6870618",
   "metadata": {},
   "outputs": [
    {
     "data": {
      "text/plain": [
       "[0, 1, 25, 45, 435, 455, 462, 624]"
      ]
     },
     "execution_count": 26,
     "metadata": {},
     "output_type": "execute_result"
    }
   ],
   "source": [
    "l3=[435,462,1,455,45,25,0,624]\n",
    "l3.sort()#will sort only if data inside is of same datatype\n",
    "l3"
   ]
  },
  {
   "cell_type": "code",
   "execution_count": 27,
   "id": "2d7b34dc-dc89-45c0-8dba-d0fae48b39d1",
   "metadata": {},
   "outputs": [
    {
     "data": {
      "text/plain": [
       "[624, 462, 455, 435, 45, 25, 1, 0]"
      ]
     },
     "execution_count": 27,
     "metadata": {},
     "output_type": "execute_result"
    }
   ],
   "source": [
    "#to sort in descending order put reverse= true as a argument in the sort method\n",
    "l3.sort(reverse=True)\n",
    "l3"
   ]
  },
  {
   "cell_type": "code",
   "execution_count": 28,
   "id": "ca90d950-acd8-4e0c-99f6-0d2f0cb172eb",
   "metadata": {},
   "outputs": [
    {
     "data": {
      "text/plain": [
       "2"
      ]
     },
     "execution_count": 28,
     "metadata": {},
     "output_type": "execute_result"
    }
   ],
   "source": [
    "#index function will return index of a element , it will return 1st occurence\n",
    "l3.index(455)"
   ]
  },
  {
   "cell_type": "code",
   "execution_count": 29,
   "id": "db0e21d7-d72d-46a0-af58-ea5d212c9a76",
   "metadata": {},
   "outputs": [
    {
     "data": {
      "text/plain": [
       "1"
      ]
     },
     "execution_count": 29,
     "metadata": {},
     "output_type": "execute_result"
    }
   ],
   "source": [
    "#count will return the number of times a value has occured\n",
    "l4=[1,1,1,1,1,1,1,1,1,4,4,5,4,5,4,4,4,4,5,5,4,4,6]\n",
    "l4.count(6)"
   ]
  },
  {
   "cell_type": "code",
   "execution_count": 30,
   "id": "eac62a24-06df-4949-a156-436bcb30c10f",
   "metadata": {},
   "outputs": [
    {
     "data": {
      "text/plain": [
       "[1, 1, 1, 1, 10, 1, 1, 1, 1, 4, 4, 5, 4, 5, 4, 4, 4, 4, 5, 5, 4, 4, 6]"
      ]
     },
     "execution_count": 30,
     "metadata": {},
     "output_type": "execute_result"
    }
   ],
   "source": [
    "#assignment in str not possible because it is immutable but in list possible str[0]='2'--> error\n",
    "l4[4]=10\n",
    "l4"
   ]
  },
  {
   "cell_type": "code",
   "execution_count": 31,
   "id": "c83e76f6-469c-438f-b7b7-f23d7fc51592",
   "metadata": {},
   "outputs": [
    {
     "data": {
      "text/plain": [
       "'gmmgggmmgmmgm'"
      ]
     },
     "execution_count": 31,
     "metadata": {},
     "output_type": "execute_result"
    }
   ],
   "source": [
    "s3=\"googggoogoogo\"\n",
    "s3.replace('o','m')#it will create a new string but old string will be unchanged"
   ]
  },
  {
   "cell_type": "code",
   "execution_count": 32,
   "id": "40492716-705b-440c-9576-4ee9a074a7af",
   "metadata": {},
   "outputs": [
    {
     "data": {
      "text/plain": [
       "'googggoogoogo'"
      ]
     },
     "execution_count": 32,
     "metadata": {},
     "output_type": "execute_result"
    }
   ],
   "source": [
    "s3"
   ]
  },
  {
   "cell_type": "code",
   "execution_count": 33,
   "id": "a0500e96-0475-43fc-b0fb-3117e9e29579",
   "metadata": {},
   "outputs": [
    {
     "data": {
      "text/plain": [
       "['anus', 7]"
      ]
     },
     "execution_count": 33,
     "metadata": {},
     "output_type": "execute_result"
    }
   ],
   "source": [
    "#tuple--immutable so assignment and removal is not possible\n",
    "#data can be stored same as of a list\n",
    "# a tuple have only two methods-- 1-- index 2--count\n",
    "t=(2,3,\"anuhska\",[\"anus\", 7],True,7+8j)\n",
    "t[3]"
   ]
  },
  {
   "cell_type": "code",
   "execution_count": 34,
   "id": "6ecde92c-13aa-488e-bba9-cbc08bddac3c",
   "metadata": {},
   "outputs": [
    {
     "data": {
      "text/plain": [
       "tuple"
      ]
     },
     "execution_count": 34,
     "metadata": {},
     "output_type": "execute_result"
    }
   ],
   "source": [
    "type(t)"
   ]
  },
  {
   "cell_type": "code",
   "execution_count": 35,
   "id": "cf9fa4ac-c960-4d10-a022-dca1fc30392e",
   "metadata": {},
   "outputs": [
    {
     "data": {
      "text/plain": [
       "6"
      ]
     },
     "execution_count": 35,
     "metadata": {},
     "output_type": "execute_result"
    }
   ],
   "source": [
    "len(t)"
   ]
  },
  {
   "cell_type": "code",
   "execution_count": 36,
   "id": "3dd4edc9-e519-4614-9501-756c00afbbaa",
   "metadata": {},
   "outputs": [
    {
     "data": {
      "text/plain": [
       "0"
      ]
     },
     "execution_count": 36,
     "metadata": {},
     "output_type": "execute_result"
    }
   ],
   "source": [
    "t.count(7485)"
   ]
  },
  {
   "cell_type": "code",
   "execution_count": 37,
   "id": "e660295d-e589-474c-aa29-382c26d275e8",
   "metadata": {},
   "outputs": [
    {
     "data": {
      "text/plain": [
       "4"
      ]
     },
     "execution_count": 37,
     "metadata": {},
     "output_type": "execute_result"
    }
   ],
   "source": [
    "t.index(True)#will show err if we search for a element that is not present in tuple"
   ]
  },
  {
   "cell_type": "code",
   "execution_count": 38,
   "id": "950ce8cc-a96d-4efe-8fd2-e452acaa9dd6",
   "metadata": {},
   "outputs": [
    {
     "data": {
      "text/plain": [
       "dict"
      ]
     },
     "execution_count": 38,
     "metadata": {},
     "output_type": "execute_result"
    }
   ],
   "source": [
    "# set---\n",
    "#is used to store the not repeating values\n",
    "#a set can store inly mutable objects , like can store str, int ,float, tuple but cant store a list\n",
    "se={}#will show its type as a dict coz its not defied yet after defining it will show type as set\n",
    "type(se)"
   ]
  },
  {
   "cell_type": "code",
   "execution_count": 39,
   "id": "323fb117-9bbf-413b-bab0-1912e9baf4aa",
   "metadata": {},
   "outputs": [
    {
     "data": {
      "text/plain": [
       "set"
      ]
     },
     "execution_count": 39,
     "metadata": {},
     "output_type": "execute_result"
    }
   ],
   "source": [
    "se1={1,2,23,2,3,3,4,4,6,6,5,5,5,\"Anu\",\"anu\",5,62,True,(\"anu\",56.6,2,0,4+5j,True)}\n",
    "type(se1)"
   ]
  },
  {
   "cell_type": "code",
   "execution_count": 40,
   "id": "6c62e35b-677f-4de8-94c4-3214344be83f",
   "metadata": {},
   "outputs": [
    {
     "data": {
      "text/plain": [
       "{('anu', 56.6, 2, 0, (4+5j), True), 1, 2, 23, 3, 4, 5, 6, 62, 'Anu', 'anu'}"
      ]
     },
     "execution_count": 40,
     "metadata": {},
     "output_type": "execute_result"
    }
   ],
   "source": [
    "se1#vese set contains no repeatiton but since python is case sensitive soit will treat anu,Anu differently and keep both in set"
   ]
  },
  {
   "cell_type": "code",
   "execution_count": 41,
   "id": "a014f202-1950-4047-83a4-311333238e91",
   "metadata": {},
   "outputs": [
    {
     "data": {
      "text/plain": [
       "[0, 1, 2, 3, 4, 5, 6, 7, 34, 10, 23, 56, 1023]"
      ]
     },
     "execution_count": 41,
     "metadata": {},
     "output_type": "execute_result"
    }
   ],
   "source": [
    "#set is used to remove duplicacy\n",
    "list1=[1,2,23,2,3,3,4,4,6,6,5,5,5,0,1,2,3,5,5,5,56,6,7,7,10,1023,34,34,0]\n",
    "list1=list(set(list1))\n",
    "list1"
   ]
  },
  {
   "cell_type": "code",
   "execution_count": 42,
   "id": "8b8b290d-401a-4915-9fee-9e8dd246f580",
   "metadata": {},
   "outputs": [
    {
     "data": {
      "text/plain": [
       "{('anu', 56.6, 2, 0, (4+5j), True), 1, 2, 23, 3, 4, 45, 5, 6, 62, 'Anu', 'anu'}"
      ]
     },
     "execution_count": 42,
     "metadata": {},
     "output_type": "execute_result"
    }
   ],
   "source": [
    "#set does not support indexing and slicing cause it does not store data according to index but stores according to hash\n",
    "#to get all the methods of the set write set_name. then press tab all the methods will start showing in a new cell if not worki \n",
    "#to know about functions of these methods google😊\n",
    "#remember set is mutable so we can add and remove but it dont use indexing to store so we cant add or remove on index\n",
    "#we will have to add or remove by values , for eg-- few fun--\n",
    "se1.add(45)\n",
    "se1"
   ]
  },
  {
   "cell_type": "code",
   "execution_count": 43,
   "id": "5d5e6928-4dbf-458e-a4af-7c2f97ec21d0",
   "metadata": {},
   "outputs": [
    {
     "data": {
      "text/plain": [
       "{('anu', 56.6, 2, 0, (4+5j), True), 1, 2, 23, 3, 4, 45, 5, 6, 'Anu', 'anu'}"
      ]
     },
     "execution_count": 43,
     "metadata": {},
     "output_type": "execute_result"
    }
   ],
   "source": [
    "se1.remove(62)\n",
    "se1"
   ]
  },
  {
   "cell_type": "code",
   "execution_count": 45,
   "id": "864b7be0-fba5-43c1-9fb6-1ba59bf0cf23",
   "metadata": {},
   "outputs": [
    {
     "name": "stdout",
     "output_type": "stream",
     "text": [
      "{'b', 'a', 'c', 'd'}\n"
     ]
    }
   ],
   "source": [
    "my_dict = {\"a\": 1, \"b\": 2, \"c\": 3}\n",
    "\n",
    "my_set = set(my_dict.keys())\n",
    "\n",
    "my_set.add(\"d\")\n",
    "\n",
    "print(my_set)"
   ]
  },
  {
   "cell_type": "code",
   "execution_count": null,
   "id": "e51fc840-a746-43ce-a3ed-b4113c6b44f3",
   "metadata": {},
   "outputs": [],
   "source": []
  }
 ],
 "metadata": {
  "kernelspec": {
   "display_name": "Python 3 (ipykernel)",
   "language": "python",
   "name": "python3"
  },
  "language_info": {
   "codemirror_mode": {
    "name": "ipython",
    "version": 3
   },
   "file_extension": ".py",
   "mimetype": "text/x-python",
   "name": "python",
   "nbconvert_exporter": "python",
   "pygments_lexer": "ipython3",
   "version": "3.10.8"
  }
 },
 "nbformat": 4,
 "nbformat_minor": 5
}
