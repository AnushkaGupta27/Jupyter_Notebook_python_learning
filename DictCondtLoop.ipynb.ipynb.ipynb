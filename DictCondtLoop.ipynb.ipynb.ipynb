{
 "cells": [
  {
   "cell_type": "code",
   "execution_count": 1,
   "id": "fdeb131a-a2f8-457f-8e79-8945af1550bd",
   "metadata": {},
   "outputs": [
    {
     "data": {
      "text/plain": [
       "{'name': 'anushka', 'class': 3, True: 'death'}"
      ]
     },
     "execution_count": 1,
     "metadata": {},
     "output_type": "execute_result"
    }
   ],
   "source": [
    "#dictonary--\n",
    "#strings,numeric,boolean are allowed as strinng but any special character is not allowedd\n",
    "d1={\"name\":\"anu\",\"class\":3,True:\"death\",'name':\"anushka\"}\n",
    "d1"
   ]
  },
  {
   "cell_type": "code",
   "execution_count": 2,
   "id": "6188e361-dcce-48ff-bc79-3bbc40aa7e3e",
   "metadata": {},
   "outputs": [
    {
     "data": {
      "text/plain": [
       "'anushka'"
      ]
     },
     "execution_count": 2,
     "metadata": {},
     "output_type": "execute_result"
    }
   ],
   "source": [
    "#no indexing concept in duct , we can fetch data by key\n",
    "#herre last value is iverrided by the same key\n",
    "d1[\"name\"]"
   ]
  },
  {
   "cell_type": "code",
   "execution_count": 3,
   "id": "042d57c0-7b29-4730-8b24-f0a2566c1fb1",
   "metadata": {},
   "outputs": [
    {
     "data": {
      "text/plain": [
       "'loyality'"
      ]
     },
     "execution_count": 3,
     "metadata": {},
     "output_type": "execute_result"
    }
   ],
   "source": [
    "d2={\"company\":\"AnuOrg\",\"facilities\":[\"greateness\",\"loyality\",\"richness\",\"gratitude\"]}\n",
    "d2['facilities'][1]"
   ]
  },
  {
   "cell_type": "code",
   "execution_count": 4,
   "id": "062073e7-3e38-452f-b27e-e0fc5bc05c46",
   "metadata": {},
   "outputs": [
    {
     "data": {
      "text/plain": [
       "{'company': 'AnuOrg',\n",
       " 'facilities': ['greateness', 'loyality', 'richness', 'gratitude'],\n",
       " 'eduLevel': (0, 1, 2, 3, 4, 5, 6),\n",
       " 'CriteriaAge': {18, 19, 20, 21, 22, 23, 24},\n",
       " 'Provided': {'for': 'notEveryOne',\n",
       "  'yes': 'specificOne',\n",
       "  25: 'Can enroll with extra fee'}}"
      ]
     },
     "execution_count": 4,
     "metadata": {},
     "output_type": "execute_result"
    }
   ],
   "source": [
    "#we can put list,tuple,set ,dict all as value in a dictionary\n",
    "d={\"company\":\"AnuOrg\",\"facilities\":[\"greateness\",\"loyality\",\"richness\",\"gratitude\"],\"eduLevel\":(0,1,2,3,4,5,6),\"CriteriaAge\":{18,19,20,21,22,23,24},\"Provided\":{\"for\":\"notEveryOne\",\"yes\":\"specificOne\",25:\"Can enroll with extra fee\"}}\n",
    "d"
   ]
  },
  {
   "cell_type": "code",
   "execution_count": 5,
   "id": "16c6eb60-ee2e-4297-9d00-8b5e5922c440",
   "metadata": {},
   "outputs": [
    {
     "data": {
      "text/plain": [
       "'Can enroll with extra fee'"
      ]
     },
     "execution_count": 5,
     "metadata": {},
     "output_type": "execute_result"
    }
   ],
   "source": [
    "#fetch 'Can enroll with extra fee'\n",
    "d[\"Provided\"][25]"
   ]
  },
  {
   "cell_type": "code",
   "execution_count": 6,
   "id": "120d7706-8693-49f5-9321-0ba06d99a4e7",
   "metadata": {},
   "outputs": [
    {
     "data": {
      "text/plain": [
       "{'company': 'AnuOrg',\n",
       " 'facilities': ['greateness', 'loyality', 'richness', 'gratitude'],\n",
       " 'eduLevel': (0, 1, 2, 3, 4, 5, 6),\n",
       " 'CriteriaAge': {18, 19, 20, 21, 22, 23, 24},\n",
       " 'Provided': {'for': 'notEveryOne',\n",
       "  'yes': 'specificOne',\n",
       "  25: 'Can enroll with extra fee'},\n",
       " 'dont': 'cheat'}"
      ]
     },
     "execution_count": 6,
     "metadata": {},
     "output_type": "execute_result"
    }
   ],
   "source": [
    "#to add key--can use to update also\n",
    "d[\"dont\"]=\"cheat\"\n",
    "d"
   ]
  },
  {
   "cell_type": "code",
   "execution_count": 7,
   "id": "d6dc0c41-ced0-4f03-9cd7-d3a715916845",
   "metadata": {},
   "outputs": [
    {
     "data": {
      "text/plain": [
       "{'company': 'AnuOrg',\n",
       " 'eduLevel': (0, 1, 2, 3, 4, 5, 6),\n",
       " 'CriteriaAge': {18, 19, 20, 21, 22, 23, 24},\n",
       " 'Provided': {'for': 'notEveryOne',\n",
       "  'yes': 'specificOne',\n",
       "  25: 'Can enroll with extra fee'},\n",
       " 'dont': 'cheat'}"
      ]
     },
     "execution_count": 7,
     "metadata": {},
     "output_type": "execute_result"
    }
   ],
   "source": [
    "#to delete a whole key\n",
    "del d[\"facilities\"]\n",
    "d"
   ]
  },
  {
   "cell_type": "code",
   "execution_count": 8,
   "id": "48eb193a-ad96-4fe3-980c-000ac373b821",
   "metadata": {},
   "outputs": [
    {
     "data": {
      "text/plain": [
       "['company', 'eduLevel', 'CriteriaAge', 'Provided', 'dont']"
      ]
     },
     "execution_count": 8,
     "metadata": {},
     "output_type": "execute_result"
    }
   ],
   "source": [
    "#to get set of all the key of a dict\n",
    "list(d.keys())"
   ]
  },
  {
   "cell_type": "code",
   "execution_count": 9,
   "id": "2c30b805-45ed-4578-b699-7315070dd45c",
   "metadata": {},
   "outputs": [
    {
     "data": {
      "text/plain": [
       "['AnuOrg',\n",
       " (0, 1, 2, 3, 4, 5, 6),\n",
       " {18, 19, 20, 21, 22, 23, 24},\n",
       " {'for': 'notEveryOne', 'yes': 'specificOne', 25: 'Can enroll with extra fee'},\n",
       " 'cheat']"
      ]
     },
     "execution_count": 9,
     "metadata": {},
     "output_type": "execute_result"
    }
   ],
   "source": [
    "#to get values\n",
    "list(d.values())"
   ]
  },
  {
   "cell_type": "code",
   "execution_count": 10,
   "id": "4155217f-6d4b-41f6-bed2-2d2a7ba9c9dd",
   "metadata": {},
   "outputs": [
    {
     "data": {
      "text/plain": [
       "[('company', 'AnuOrg'),\n",
       " ('eduLevel', (0, 1, 2, 3, 4, 5, 6)),\n",
       " ('CriteriaAge', {18, 19, 20, 21, 22, 23, 24}),\n",
       " ('Provided',\n",
       "  {'for': 'notEveryOne',\n",
       "   'yes': 'specificOne',\n",
       "   25: 'Can enroll with extra fee'}),\n",
       " ('dont', 'cheat')]"
      ]
     },
     "execution_count": 10,
     "metadata": {},
     "output_type": "execute_result"
    }
   ],
   "source": [
    "#to get values\n",
    "#will return all key value pair in a tuple\n",
    "list(d.items())"
   ]
  },
  {
   "cell_type": "code",
   "execution_count": 11,
   "id": "4df6fd22-7762-4025-8e06-41db72d9cb21",
   "metadata": {},
   "outputs": [
    {
     "data": {
      "text/plain": [
       "{'company': 'AnuOrg',\n",
       " 'CriteriaAge': {18, 19, 20, 21, 22, 23, 24},\n",
       " 'Provided': {'for': 'notEveryOne',\n",
       "  'yes': 'specificOne',\n",
       "  25: 'Can enroll with extra fee'},\n",
       " 'dont': 'cheat'}"
      ]
     },
     "execution_count": 11,
     "metadata": {},
     "output_type": "execute_result"
    }
   ],
   "source": [
    "#pop delets according to the key value\n",
    "d.pop(\"eduLevel\")\n",
    "d"
   ]
  },
  {
   "cell_type": "code",
   "execution_count": 12,
   "id": "2fd121de-4a01-4e40-999b-32ae122c6134",
   "metadata": {},
   "outputs": [
    {
     "name": "stdin",
     "output_type": "stream",
     "text": [
      "enter your marks  500000\n"
     ]
    },
    {
     "name": "stdout",
     "output_type": "stream",
     "text": [
      "you will be in A0 batch\n"
     ]
    }
   ],
   "source": [
    "#conditional statements--\n",
    "#in any block if any of \"if\",\"elif\",\"else\" statememnt gets executed then futher no blocks wil be chacked and execution wil break\n",
    "#marks=78\n",
    "#we can also take input from user\n",
    "marks=int(input(\"enter your marks \"))\n",
    "if marks>=80:\n",
    "    print(\"you will be in A0 batch\")\n",
    "elif marks>=60 and marks<80:\n",
    "    print(\"you will be in A1 batch\")\n",
    "elif marks>=40 and marks<60:\n",
    "    print(\"you will be in A2 batch\")\n",
    "else:\n",
    "    print(\"you will be in A3 batch\")"
   ]
  },
  {
   "cell_type": "code",
   "execution_count": 13,
   "id": "a00d8aa9-aa35-4b85-895a-8a828223f86a",
   "metadata": {},
   "outputs": [
    {
     "name": "stdin",
     "output_type": "stream",
     "text": [
      "enter your price  500000\n"
     ]
    },
    {
     "name": "stdout",
     "output_type": "stream",
     "text": [
      "purchase\n",
      "cant purchase too much\n"
     ]
    }
   ],
   "source": [
    "price=int(input(\"enter your price \"))\n",
    "if price>=1000:\n",
    "    print(\"purchase\")\n",
    "    if price>=6000:\n",
    "        print(\"cant purchase too much\")\n",
    "    elif price<=3000:\n",
    "        print(\"ok buy it\")\n",
    "else:\n",
    "    print(\"too cheap to buy\")"
   ]
  },
  {
   "cell_type": "code",
   "execution_count": 14,
   "id": "e81e6ad2-3d83-4273-9255-5f001a11c6ba",
   "metadata": {},
   "outputs": [
    {
     "data": {
      "text/plain": [
       "[2, 3, 4, 4, 5, 6, 7, 8, 9, 10, 11]"
      ]
     },
     "execution_count": 14,
     "metadata": {},
     "output_type": "execute_result"
    }
   ],
   "source": [
    "#loops--\n",
    "l=[1,2,3,3,4,5,6,7,8,9,10]\n",
    "for i in range(len(l)):\n",
    "    l[i]=l[i]+1\n",
    "l"
   ]
  },
  {
   "cell_type": "code",
   "execution_count": 28,
   "id": "0bc17586-33a4-42f9-88b9-b6170a5f6416",
   "metadata": {},
   "outputs": [
    {
     "data": {
      "text/plain": [
       "10"
      ]
     },
     "execution_count": 28,
     "metadata": {},
     "output_type": "execute_result"
    }
   ],
   "source": [
    "#since list a iterable ds so we can also do it direct--\n",
    "l1=[1,2,3,3,4,5,6,7,8,9,10]\n",
    "l2=[]\n",
    "for i in l1:\n",
    "    l2.append(i+1)\n",
    "l2"
   ]
  },
  {
   "cell_type": "code",
   "execution_count": 16,
   "id": "729f2340-7ff1-4cf5-b2c3-c30f04c4aef1",
   "metadata": {},
   "outputs": [
    {
     "data": {
      "text/plain": [
       "['ANUSHKA', 'GUPTA', 'LALGANJ', 'JSSATE']"
      ]
     },
     "execution_count": 16,
     "metadata": {},
     "output_type": "execute_result"
    }
   ],
   "source": [
    "l3=[\"anushka\", \"gupta\",\"lalganj\",\"jssate\"]\n",
    "l4=[]\n",
    "for i in l3:\n",
    "    l4.append(i.upper())\n",
    "l4"
   ]
  },
  {
   "cell_type": "code",
   "execution_count": 17,
   "id": "ad807cc1-597e-4673-9fae-da91ec5e9fe6",
   "metadata": {},
   "outputs": [
    {
     "data": {
      "text/plain": [
       "['ANUSHKA', 'GUPTA', 'LALGANJ', 'JSSATE']"
      ]
     },
     "execution_count": 17,
     "metadata": {},
     "output_type": "execute_result"
    }
   ],
   "source": [
    "l5=[\"anushka\", \"gupta\",\"lalganj\",\"jssate\"]\n",
    "for i in range(len(l3)):\n",
    "    l5[i]=l5[i].upper()\n",
    "l5"
   ]
  },
  {
   "cell_type": "code",
   "execution_count": 27,
   "id": "26718359-a66e-4cab-a300-4f77b353fa1c",
   "metadata": {},
   "outputs": [
    {
     "name": "stdout",
     "output_type": "stream",
     "text": [
      "0\n",
      "2\n",
      "5\n",
      "7\n"
     ]
    },
    {
     "data": {
      "text/plain": [
       "['anushka', 'gupta', 'lalganj', 'jssate']"
      ]
     },
     "execution_count": 27,
     "metadata": {},
     "output_type": "execute_result"
    }
   ],
   "source": [
    "l6=[\"anushka\",54, \"gupta\",34.67,56,\"lalganj\",90,\"jssate\"]\n",
    "l7=[]\n",
    "i=0\n",
    "for i in range(len(l6)):\n",
    "    if type(l6[i])==str:\n",
    "        l7.append(l6[i])\n",
    "        #l6.remove(i)\n",
    "        print(i)\n",
    "    else:\n",
    "        l6[i]=l6[i]\n",
    "l7"
   ]
  },
  {
   "cell_type": "code",
   "execution_count": 35,
   "id": "476872be-6a44-48e8-81f1-74eff49875ff",
   "metadata": {},
   "outputs": [
    {
     "data": {
      "text/plain": [
       "['anushka', 'gupta', 'lalganj', 'jssate']"
      ]
     },
     "execution_count": 35,
     "metadata": {},
     "output_type": "execute_result"
    }
   ],
   "source": [
    "l8=[\"anushka\",54, \"gupta\",34.67,56,\"lalganj\",90,\"jssate\"]\n",
    "l9=[]\n",
    "l10=[]\n",
    "for j in l8:\n",
    "    if type(j)==int or type(j)==float:\n",
    "        l9.append(j)\n",
    "    else:\n",
    "        l10.append(j)\n",
    "l10"
   ]
  },
  {
   "cell_type": "code",
   "execution_count": 36,
   "id": "7a7eccd7-7248-4c2d-ab3b-5ce1e1c3093e",
   "metadata": {},
   "outputs": [
    {
     "data": {
      "text/plain": [
       "[54, 34.67, 56, 90]"
      ]
     },
     "execution_count": 36,
     "metadata": {},
     "output_type": "execute_result"
    }
   ],
   "source": [
    "l9"
   ]
  },
  {
   "cell_type": "code",
   "execution_count": null,
   "id": "c1cadfe3-9b03-4559-98ca-8156f8b6d785",
   "metadata": {},
   "outputs": [],
   "source": []
  }
 ],
 "metadata": {
  "kernelspec": {
   "display_name": "Python 3 (ipykernel)",
   "language": "python",
   "name": "python3"
  },
  "language_info": {
   "codemirror_mode": {
    "name": "ipython",
    "version": 3
   },
   "file_extension": ".py",
   "mimetype": "text/x-python",
   "name": "python",
   "nbconvert_exporter": "python",
   "pygments_lexer": "ipython3",
   "version": "3.10.8"
  }
 },
 "nbformat": 4,
 "nbformat_minor": 5
}
