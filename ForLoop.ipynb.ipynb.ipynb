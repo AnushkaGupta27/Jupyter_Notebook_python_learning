{
 "cells": [
  {
   "cell_type": "code",
   "execution_count": 3,
   "id": "851b5003-f78b-4e26-bc6b-9a4cd2a31004",
   "metadata": {},
   "outputs": [
    {
     "name": "stdout",
     "output_type": "stream",
     "text": [
      "7 <class 'int'>\n",
      "anushka <class 'str'>\n",
      "(7+8j) <class 'complex'>\n",
      "8 <class 'int'>\n",
      "True <class 'bool'>\n",
      "hola! I completed my work!\n"
     ]
    }
   ],
   "source": [
    "#for else loop;\n",
    "#else will execute only if for is completed successfully\n",
    "l=[7,\"anushka\",7+8j,8,True]\n",
    "for i in l:\n",
    "    print(i,type(i))\n",
    "else:\n",
    "    print(\"hola! I completed my work!\")"
   ]
  },
  {
   "cell_type": "code",
   "execution_count": 4,
   "id": "6afa872c-dd25-43d9-b7b9-d3bee80b2cab",
   "metadata": {},
   "outputs": [
    {
     "name": "stdout",
     "output_type": "stream",
     "text": [
      "7\n",
      "anushka\n",
      "(7+8j)\n"
     ]
    }
   ],
   "source": [
    "#break statement--\n",
    "#break statement makes execution out of loop whenever a perticular condition hits\n",
    "#here else is not executed because for loop break in between and didnt completed\n",
    "for i in l:\n",
    "    if i==8:\n",
    "        break\n",
    "    print(i)\n",
    "else:\n",
    "    print(\"hola! I completed my work!\")"
   ]
  },
  {
   "cell_type": "code",
   "execution_count": 5,
   "id": "1c9e0b79-184b-4b10-a270-9930ef4184e9",
   "metadata": {},
   "outputs": [
    {
     "name": "stdout",
     "output_type": "stream",
     "text": [
      "7\n",
      "anushka\n",
      "(7+8j)\n",
      "True\n",
      "hola! I completed my work!\n"
     ]
    }
   ],
   "source": [
    "#continue statement--\n",
    "#continue statement makes execution stop only once whenever a perticular condition hits\n",
    "#here else is executed because for loop just continued for a perticualr value in between and completed\n",
    "for i in l:\n",
    "    if i==8:\n",
    "        continue\n",
    "    print(i)\n",
    "else:\n",
    "    print(\"hola! I completed my work!\")"
   ]
  },
  {
   "cell_type": "code",
   "execution_count": 6,
   "id": "14230d5f-4d2e-405e-a595-ca2e0205333e",
   "metadata": {},
   "outputs": [
    {
     "data": {
      "text/plain": [
       "range(1, 6)"
      ]
     },
     "execution_count": 6,
     "metadata": {},
     "output_type": "execute_result"
    }
   ],
   "source": [
    "#range function-- it is a generator function and generates data in a given limit\n",
    "#below data is generated but just not showing in list\n",
    "range(1,6)"
   ]
  },
  {
   "cell_type": "code",
   "execution_count": 7,
   "id": "d38691d0-0c0c-44d5-9890-c95ec45de831",
   "metadata": {},
   "outputs": [
    {
     "data": {
      "text/plain": [
       "[1, 2, 3, 4, 5]"
      ]
     },
     "execution_count": 7,
     "metadata": {},
     "output_type": "execute_result"
    }
   ],
   "source": [
    "list(range(1,6))"
   ]
  },
  {
   "cell_type": "code",
   "execution_count": 8,
   "id": "2201e6c6-20af-4f16-a899-8664ef415eb1",
   "metadata": {},
   "outputs": [
    {
     "data": {
      "text/plain": [
       "[1, 3, 5, 7, 9, 11, 13, 15, 17, 19]"
      ]
     },
     "execution_count": 8,
     "metadata": {},
     "output_type": "execute_result"
    }
   ],
   "source": [
    "#it also have Concept of jump we can define jump Street numbers in a particular situation\n",
    "list(range(1,20,2))"
   ]
  },
  {
   "cell_type": "code",
   "execution_count": 18,
   "id": "db580cf2-7edd-483f-898d-10ef6cf59130",
   "metadata": {},
   "outputs": [
    {
     "name": "stdout",
     "output_type": "stream",
     "text": [
      "True <class 'int'>\n",
      "8 <class 'int'>\n",
      "(7+8j) <class 'int'>\n",
      "anushka <class 'int'>\n",
      "7 <class 'int'>\n"
     ]
    }
   ],
   "source": [
    "#print a list in a reverse order--\n",
    "for i in list(range(len(l)-1,-1,-1)):\n",
    "    print(l[i],type(i))"
   ]
  },
  {
   "cell_type": "code",
   "execution_count": 25,
   "id": "b76f550b-d53c-4400-9bff-585c5aee394d",
   "metadata": {},
   "outputs": [
    {
     "data": {
      "text/plain": [
       "28"
      ]
     },
     "execution_count": 25,
     "metadata": {},
     "output_type": "execute_result"
    }
   ],
   "source": [
    "l1=[1,2,5,0,9,6,5]\n",
    "sum(l1)"
   ]
  },
  {
   "cell_type": "code",
   "execution_count": 21,
   "id": "8ed31e4f-b5a7-462b-a5c4-3daf9c09d5cf",
   "metadata": {},
   "outputs": [
    {
     "name": "stdout",
     "output_type": "stream",
     "text": [
      "7 <class 'int'>\n",
      "(7+8j) <class 'complex'>\n",
      "True <class 'bool'>\n"
     ]
    }
   ],
   "source": [
    "for i in list(range(0,len(l),2)):\n",
    "    print(l[i],type(l[i]))"
   ]
  },
  {
   "cell_type": "code",
   "execution_count": 26,
   "id": "3d9b9e0c-0537-4d16-be9d-43e0b7763882",
   "metadata": {},
   "outputs": [
    {
     "data": {
      "text/plain": [
       "28"
      ]
     },
     "execution_count": 26,
     "metadata": {},
     "output_type": "execute_result"
    }
   ],
   "source": [
    "sumi=0\n",
    "for i in l1:\n",
    "    sumi+=i\n",
    "sumi"
   ]
  },
  {
   "cell_type": "code",
   "execution_count": 28,
   "id": "b7455cb7-511a-4d70-bfe8-d30ca1571bc5",
   "metadata": {},
   "outputs": [
    {
     "name": "stdout",
     "output_type": "stream",
     "text": [
      "100\n"
     ]
    }
   ],
   "source": [
    "#for loop works for list,tuple,set,dictionary,strings\n",
    "t=(1, 3, 5, 7, 9, 11, 13, 15, 17, 19)\n",
    "sumi=0\n",
    "for i in t:\n",
    "    sumi+=i\n",
    "print(sumi)"
   ]
  },
  {
   "cell_type": "code",
   "execution_count": 29,
   "id": "a8fd807e-6bac-4c84-8779-791e9c400d08",
   "metadata": {},
   "outputs": [
    {
     "name": "stdout",
     "output_type": "stream",
     "text": [
      "100\n"
     ]
    }
   ],
   "source": [
    "s={1, 3, 5, 7, 9, 11, 13, 15, 17, 19}\n",
    "sumi=0\n",
    "for i in s:\n",
    "    sumi+=i\n",
    "print(sumi)"
   ]
  },
  {
   "cell_type": "code",
   "execution_count": 30,
   "id": "f51ecdd3-4b6a-4410-9e54-ca08e9b8b535",
   "metadata": {},
   "outputs": [
    {
     "name": "stdout",
     "output_type": "stream",
     "text": [
      "anu\n",
      "2\n",
      "5\n"
     ]
    }
   ],
   "source": [
    "d={\"name\":\"anu\",\"sec\":\"2\",\"class\":5}\n",
    "for i in d.keys():\n",
    "    print(d[i])"
   ]
  },
  {
   "cell_type": "code",
   "execution_count": 32,
   "id": "fff82103-4d19-484d-ba06-1894bec087b0",
   "metadata": {},
   "outputs": [
    {
     "name": "stdout",
     "output_type": "stream",
     "text": [
      "anu\n",
      "2\n",
      "5\n"
     ]
    }
   ],
   "source": [
    "for i in d.values():\n",
    "    print(i)"
   ]
  },
  {
   "cell_type": "code",
   "execution_count": 33,
   "id": "b6954602-08aa-46c2-bf67-c290d77d106b",
   "metadata": {},
   "outputs": [
    {
     "name": "stdout",
     "output_type": "stream",
     "text": [
      "name\n",
      "sec\n",
      "class\n"
     ]
    }
   ],
   "source": [
    "for i in d.keys():\n",
    "    print(i)"
   ]
  },
  {
   "cell_type": "code",
   "execution_count": 34,
   "id": "fec9d81b-323c-4ca6-9b08-911843950230",
   "metadata": {},
   "outputs": [
    {
     "name": "stdout",
     "output_type": "stream",
     "text": [
      "('name', 'anu')\n",
      "('sec', '2')\n",
      "('class', 5)\n"
     ]
    }
   ],
   "source": [
    "for i in d.items():\n",
    "    print(i)"
   ]
  },
  {
   "cell_type": "code",
   "execution_count": null,
   "id": "3362de2c-129a-4a94-ad00-9c0223d4c295",
   "metadata": {},
   "outputs": [],
   "source": []
  }
 ],
 "metadata": {
  "kernelspec": {
   "display_name": "Python 3 (ipykernel)",
   "language": "python",
   "name": "python3"
  },
  "language_info": {
   "codemirror_mode": {
    "name": "ipython",
    "version": 3
   },
   "file_extension": ".py",
   "mimetype": "text/x-python",
   "name": "python",
   "nbconvert_exporter": "python",
   "pygments_lexer": "ipython3",
   "version": "3.10.8"
  }
 },
 "nbformat": 4,
 "nbformat_minor": 5
}
