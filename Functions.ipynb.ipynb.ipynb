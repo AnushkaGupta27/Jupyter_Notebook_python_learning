{
 "cells": [
  {
   "cell_type": "code",
   "execution_count": 1,
   "id": "10076e89-4dae-4281-91c8-15649d79345f",
   "metadata": {},
   "outputs": [],
   "source": [
    "#functions are used to increase reusability of code\n",
    "def fun1():\n",
    "    print(\"my first function\")"
   ]
  },
  {
   "cell_type": "code",
   "execution_count": 2,
   "id": "b842d101-d648-4bab-a3d2-7e5a754c5a30",
   "metadata": {},
   "outputs": [
    {
     "name": "stdout",
     "output_type": "stream",
     "text": [
      "my first function\n"
     ]
    }
   ],
   "source": [
    "fun1()"
   ]
  },
  {
   "cell_type": "code",
   "execution_count": 3,
   "id": "e7d15a68-d1cb-4fc6-a6a8-c620f33cbf08",
   "metadata": {},
   "outputs": [
    {
     "data": {
      "text/plain": [
       "'my name is : anuhska'"
      ]
     },
     "execution_count": 3,
     "metadata": {},
     "output_type": "execute_result"
    }
   ],
   "source": [
    "#the following will throw err because by print statement no return type is associated \n",
    "#fun1() + \"siya\"\n",
    "#to resolve this of we want to add something after returning we should return string instead of printing value\n",
    "def fun2():\n",
    "    return \"my name is : \"\n",
    "fun2() +\"anuhska\""
   ]
  },
  {
   "cell_type": "code",
   "execution_count": 4,
   "id": "41ed09dd-dc50-4cb5-bb00-1b88fc9a5526",
   "metadata": {},
   "outputs": [
    {
     "data": {
      "text/plain": [
       "('ansuhka', 34, (5+6j), True, [654, 45, 4])"
      ]
     },
     "execution_count": 4,
     "metadata": {},
     "output_type": "execute_result"
    }
   ],
   "source": [
    "#python can return more than one datatypes (me as java developer crying in corner (;_;)\n",
    "def fun3():\n",
    "    return \"ansuhka\",34,5+6j,True,[654,45,4]\n",
    "fun3()"
   ]
  },
  {
   "cell_type": "code",
   "execution_count": 5,
   "id": "b94ad9a9-05d7-4974-b8a7-48fde80eac97",
   "metadata": {},
   "outputs": [
    {
     "data": {
      "text/plain": [
       "('ansuhka', 34, (5+6j), True, [654, 45, 4])"
      ]
     },
     "execution_count": 5,
     "metadata": {},
     "output_type": "execute_result"
    }
   ],
   "source": [
    "fun3()"
   ]
  },
  {
   "cell_type": "code",
   "execution_count": 6,
   "id": "d6c9bf79-93cc-48f8-a0d6-7dcf461273f9",
   "metadata": {},
   "outputs": [],
   "source": [
    "#infact we can store these returning values inside different variables by assigining them\n",
    "a,b,c,d,e=fun3()"
   ]
  },
  {
   "cell_type": "code",
   "execution_count": 7,
   "id": "f5164d96-329f-410a-82b8-5c0223a2bf3a",
   "metadata": {},
   "outputs": [
    {
     "data": {
      "text/plain": [
       "'ansuhka'"
      ]
     },
     "execution_count": 7,
     "metadata": {},
     "output_type": "execute_result"
    }
   ],
   "source": [
    "a"
   ]
  },
  {
   "cell_type": "code",
   "execution_count": 8,
   "id": "2b4bdf9c-f0f6-48f5-b5d8-afac504061ac",
   "metadata": {},
   "outputs": [
    {
     "data": {
      "text/plain": [
       "(34, (5+6j))"
      ]
     },
     "execution_count": 8,
     "metadata": {},
     "output_type": "execute_result"
    }
   ],
   "source": [
    "b,c"
   ]
  },
  {
   "cell_type": "code",
   "execution_count": 9,
   "id": "bbe783b9-0725-46ba-afac-892891dab5cd",
   "metadata": {},
   "outputs": [
    {
     "data": {
      "text/plain": [
       "34"
      ]
     },
     "execution_count": 9,
     "metadata": {},
     "output_type": "execute_result"
    }
   ],
   "source": [
    "b"
   ]
  },
  {
   "cell_type": "code",
   "execution_count": 10,
   "id": "655807e3-4558-4a8e-afd0-b67873ba01fc",
   "metadata": {},
   "outputs": [
    {
     "data": {
      "text/plain": [
       "[654, 45, 4]"
      ]
     },
     "execution_count": 10,
     "metadata": {},
     "output_type": "execute_result"
    }
   ],
   "source": [
    "e"
   ]
  },
  {
   "cell_type": "code",
   "execution_count": 11,
   "id": "d8407ce3-5554-4121-afbd-0f728b3eea0c",
   "metadata": {},
   "outputs": [
    {
     "data": {
      "text/plain": [
       "9"
      ]
     },
     "execution_count": 11,
     "metadata": {},
     "output_type": "execute_result"
    }
   ],
   "source": [
    "#we can add arguments also--to make it not hardcoded--\n",
    "def fun4(a,b):\n",
    "    return a+b\n",
    "fun4(4,5)"
   ]
  },
  {
   "cell_type": "code",
   "execution_count": 12,
   "id": "2ad6c039-fbfc-4666-b47a-80c0e9a33b00",
   "metadata": {},
   "outputs": [
    {
     "data": {
      "text/plain": [
       "'anushka gupta'"
      ]
     },
     "execution_count": 12,
     "metadata": {},
     "output_type": "execute_result"
    }
   ],
   "source": [
    "#will concatenate string and lists\n",
    "fun4(\"anushka \",\"gupta\")"
   ]
  },
  {
   "cell_type": "code",
   "execution_count": 13,
   "id": "e729beee-6994-496a-baf9-37b15112b4fb",
   "metadata": {},
   "outputs": [
    {
     "data": {
      "text/plain": [
       "[1, 2, 3, 4, 6, 'gupta', 4]"
      ]
     },
     "execution_count": 13,
     "metadata": {},
     "output_type": "execute_result"
    }
   ],
   "source": [
    "fun4( [1,2,3,4,6],[\"gupta\",4])"
   ]
  },
  {
   "cell_type": "code",
   "execution_count": 14,
   "id": "12506ac3-90c5-4ac5-a8f3-77b0a04c18fb",
   "metadata": {},
   "outputs": [
    {
     "data": {
      "text/plain": [
       "[1, 2, 3, 4, 6, 4]"
      ]
     },
     "execution_count": 14,
     "metadata": {},
     "output_type": "execute_result"
    }
   ],
   "source": [
    "#a function for setting all int values in another list\n",
    "l=[1, 2, 3, 4, 6, 'gupta', 4,[1,2,7]]\n",
    "def fun5(l):\n",
    "    l1=[]\n",
    "    for i in l:\n",
    "        if type(i)==int:\n",
    "            l1.append(i)\n",
    "    return l1\n",
    "fun5(l)"
   ]
  },
  {
   "cell_type": "code",
   "execution_count": 15,
   "id": "d3155b7b-545b-4319-8991-e9564df079eb",
   "metadata": {},
   "outputs": [
    {
     "data": {
      "text/plain": [
       "[1, 2, 3, 4, 6, 4, 1, 2, 7, 111]"
      ]
     },
     "execution_count": 15,
     "metadata": {},
     "output_type": "execute_result"
    }
   ],
   "source": [
    "#a function for setting all int values in another list also if one more list then put int inside that into the new list\n",
    "l=[1, 2, 3, 4, 6, 'gupta', 4,[1,2,7,111]]\n",
    "def fun6(l):\n",
    "    l1=[]\n",
    "    for i in l:\n",
    "        if type(i)==int:\n",
    "            l1.append(i)\n",
    "        if type(i)==list:\n",
    "            for j in i:\n",
    "                l1.append(j)\n",
    "    return l1\n",
    "fun6(l)"
   ]
  },
  {
   "cell_type": "code",
   "execution_count": 16,
   "id": "3694d54e-a9f5-434a-8aed-5ece4b0fd098",
   "metadata": {},
   "outputs": [
    {
     "data": {
      "text/plain": [
       "(11, 99, 200)"
      ]
     },
     "execution_count": 16,
     "metadata": {},
     "output_type": "execute_result"
    }
   ],
   "source": [
    "#we can even pass arguments by their name if forgot sequence--\n",
    "def fun7(a,b,c):\n",
    "    a+=10\n",
    "    b+=90\n",
    "    c+=100\n",
    "    return a,b,c\n",
    "fun7(a=1,b=9,c=100)"
   ]
  },
  {
   "cell_type": "code",
   "execution_count": 17,
   "id": "0146e743-5906-44ba-8c40-60df4db7e6af",
   "metadata": {},
   "outputs": [
    {
     "data": {
      "text/plain": [
       "(1, 2, 3, 4, 5, 6, 'annushka')"
      ]
     },
     "execution_count": 17,
     "metadata": {},
     "output_type": "execute_result"
    }
   ],
   "source": [
    "#passing n number of multiple arguments--\n",
    "def fun8(*args):\n",
    "    return args\n",
    "fun8(1,2,3,4,5,6,\"annushka\")"
   ]
  },
  {
   "cell_type": "code",
   "execution_count": 18,
   "id": "6d2bd444-54d2-49c1-bb81-b453bd706652",
   "metadata": {},
   "outputs": [
    {
     "data": {
      "text/plain": [
       "((1, 2, 3, 4, 5, 6, 'annushka'), (6+9j))"
      ]
     },
     "execution_count": 18,
     "metadata": {},
     "output_type": "execute_result"
    }
   ],
   "source": [
    "#while giving another arg with *args will through err caouse it will not understand what value is assigned to args and what to a\n",
    "#def fun8(*args,a): will through err if while passing parameter we didnt specified\n",
    "def fun9(*args,a):\n",
    "    return args,a\n",
    "#we will have to specify here\n",
    "fun9(1,2,3,4,5,6,\"annushka\",a=6+9j)"
   ]
  },
  {
   "cell_type": "code",
   "execution_count": 19,
   "id": "f7af9d04-6b26-47e2-a9f6-7e65d723be82",
   "metadata": {},
   "outputs": [
    {
     "data": {
      "text/plain": [
       "(1, 2, 10, 'anushka')"
      ]
     },
     "execution_count": 19,
     "metadata": {},
     "output_type": "execute_result"
    }
   ],
   "source": [
    "#we can even give default values to the argments\n",
    "def fun10(a,b,c=10,d=\"anushka\"):\n",
    "    return a,b,c,d\n",
    "# we wil have to specify value of a, b cause there is no defuault val for a,b\n",
    "fun10(1,2)"
   ]
  },
  {
   "cell_type": "code",
   "execution_count": 20,
   "id": "b60d91a0-a6c1-4e61-b0a0-4802d21cfd97",
   "metadata": {},
   "outputs": [
    {
     "data": {
      "text/plain": [
       "(1, 2, 3, 4)"
      ]
     },
     "execution_count": 20,
     "metadata": {},
     "output_type": "execute_result"
    }
   ],
   "source": [
    "#we can override default value--\n",
    "fun10(1,2,3,4)"
   ]
  },
  {
   "cell_type": "code",
   "execution_count": 21,
   "id": "c6c1290f-6d39-464a-81c9-489e5cb08aed",
   "metadata": {},
   "outputs": [
    {
     "data": {
      "text/plain": [
       "{}"
      ]
     },
     "execution_count": 21,
     "metadata": {},
     "output_type": "execute_result"
    }
   ],
   "source": [
    "# if we want return in dic formate and give input in key value pairs then we will have to pass argmnt as **kwargs\n",
    "def fun11(**kwargs):\n",
    "    \"\"\"returns all the parameter passed in form of dictionary\"\"\"\n",
    "    return kwargs\n",
    "fun11()"
   ]
  },
  {
   "cell_type": "code",
   "execution_count": 22,
   "id": "ea6633fb-da34-4fc2-877b-f1d83521fd97",
   "metadata": {},
   "outputs": [
    {
     "data": {
      "text/plain": [
       "dict"
      ]
     },
     "execution_count": 22,
     "metadata": {},
     "output_type": "execute_result"
    }
   ],
   "source": [
    "type(fun11())"
   ]
  },
  {
   "cell_type": "code",
   "execution_count": 23,
   "id": "a9bf7635-c167-486b-a6bd-5f88ff32e8dc",
   "metadata": {},
   "outputs": [
    {
     "data": {
      "text/plain": [
       "{'a': 'anus', 'b': 10, 'c': (8+9j), 'd': True}"
      ]
     },
     "execution_count": 23,
     "metadata": {},
     "output_type": "execute_result"
    }
   ],
   "source": [
    "#we will have to pass argumnts as key value pairs also\n",
    "fun11(a=\"anus\",b=10,c=8+9j,d=True)"
   ]
  },
  {
   "cell_type": "code",
   "execution_count": 24,
   "id": "475e389a-33e9-4443-b8ce-9d1f0e870c7f",
   "metadata": {},
   "outputs": [],
   "source": [
    "#if we dont want to define a fn and just declare it at the moment the we can use pass keyword\n",
    "def passfun():\n",
    "    \"\"\"just pass for now no logic\"\"\"\n",
    "    pass\n",
    "#if we didnt used pass fn it would have thowrn err\n",
    "#we can also add description about a fn in triple quotes called doc string\n",
    "#when| we press shift+tab inside paranthesis we get description of that fn we can do it for user defined fn also\n",
    "#range(here press shift+tab)\n",
    "fun11()\n",
    "passfun()"
   ]
  },
  {
   "cell_type": "code",
   "execution_count": 25,
   "id": "ce23d7b3-3f6d-4c86-b2e9-f20753851b6a",
   "metadata": {},
   "outputs": [
    {
     "data": {
      "text/plain": [
       "[1, 2, 3, 4, 5, 6, 7, 8, 9]"
      ]
     },
     "execution_count": 25,
     "metadata": {},
     "output_type": "execute_result"
    }
   ],
   "source": [
    "#generator function----------\n",
    "#generator fun gives data one by one continuously till end without holding any space in the memory\n",
    "#like range is a kind of generator fun that generates number in a given range--\n",
    "range(1,10)\n",
    "#this will generate num from 1 to 9 but to print it we have convert it to list or iterate through a for loop to print each num\n",
    "list(range(1,10))"
   ]
  },
  {
   "cell_type": "code",
   "execution_count": 26,
   "id": "5e6fcbaf-e186-4c42-b446-6b9197de7140",
   "metadata": {},
   "outputs": [
    {
     "name": "stdout",
     "output_type": "stream",
     "text": [
      "1 2 3 4 5 6 7 8 9 "
     ]
    }
   ],
   "source": [
    "for i in range(1,10):\n",
    "    print(i,end=\" \")"
   ]
  },
  {
   "cell_type": "code",
   "execution_count": 27,
   "id": "1a0bf101-2047-4358-a5ba-3b2578ad689f",
   "metadata": {},
   "outputs": [
    {
     "data": {
      "text/plain": [
       "<generator object gfun1 at 0x7f40b94ba6c0>"
      ]
     },
     "execution_count": 27,
     "metadata": {},
     "output_type": "execute_result"
    }
   ],
   "source": [
    "#to creat a user defined generator function we usually use yield keyword\n",
    "#create a genrator fun for fibinacci\n",
    "def gfun1(n):\n",
    "    a,b=0,1\n",
    "    for i in range(n):\n",
    "        yield a\n",
    "        a,b=b,a+b\n",
    "#following line will create a generator object of this fn, to write elements we have to iterate and print or make a list thn prnt\n",
    "gfun1(10)"
   ]
  },
  {
   "cell_type": "code",
   "execution_count": 28,
   "id": "187d1d70-4002-482a-bb7b-51bea16668e1",
   "metadata": {},
   "outputs": [
    {
     "name": "stdout",
     "output_type": "stream",
     "text": [
      "0\n",
      "1\n",
      "1\n",
      "2\n",
      "3\n",
      "5\n",
      "8\n",
      "13\n",
      "21\n",
      "34\n"
     ]
    }
   ],
   "source": [
    "for i in gfun1(10):\n",
    "    print(i)\n",
    "    "
   ]
  },
  {
   "cell_type": "code",
   "execution_count": 29,
   "id": "47ac6d0d-16e2-4807-a0ee-9aaa9559cb9e",
   "metadata": {},
   "outputs": [],
   "source": [
    "#generator function yields data one by one not consuming pafrt in memory\n",
    "#to use generator function we can also create its object and the use it\n",
    "#after creating object we can print our data by next fun"
   ]
  },
  {
   "cell_type": "code",
   "execution_count": 30,
   "id": "23adf453-6e3a-4adc-b312-a3ee8c753fd3",
   "metadata": {},
   "outputs": [
    {
     "data": {
      "text/plain": [
       "<generator object gfun2 at 0x7f40b94ba8f0>"
      ]
     },
     "execution_count": 30,
     "metadata": {},
     "output_type": "execute_result"
    }
   ],
   "source": [
    "def gfun2(n):\n",
    "    a,b=0,1\n",
    "    while True:\n",
    "        yield a\n",
    "        a,b=b,a+b\n",
    "gfun2(2)"
   ]
  },
  {
   "cell_type": "code",
   "execution_count": 31,
   "id": "13026ea2-9d9c-432c-86a9-e02753cf1f93",
   "metadata": {},
   "outputs": [
    {
     "name": "stdout",
     "output_type": "stream",
     "text": [
      "0\n",
      "1\n",
      "1\n",
      "2\n",
      "3\n",
      "5\n",
      "8\n",
      "13\n",
      "21\n",
      "34\n"
     ]
    }
   ],
   "source": [
    "g= gfun2(5)\n",
    "for i in range(10):\n",
    "    #here next means print the vslue where next pointer is pointing\n",
    "    #the nearest or next vzlue to it will be printed\n",
    "    print(next(g))"
   ]
  },
  {
   "cell_type": "code",
   "execution_count": 32,
   "id": "ab07f1e0-660a-4c5a-b7b4-1c0da56277c5",
   "metadata": {},
   "outputs": [
    {
     "name": "stdout",
     "output_type": "stream",
     "text": [
      "a\n",
      "n\n",
      "u\n",
      "s\n",
      "h\n",
      "k\n",
      "a\n"
     ]
    }
   ],
   "source": [
    "#next works only when object is an iterator\n",
    "#internal working of for loop--\n",
    "#while iterating through a string for loop first comvertss the str(iterable) to the type iterator by method itr(str)\n",
    "#then simply for loop writes the next value of the str for given number of times eg-\n",
    "s=\"anushka\"\n",
    "for i in s:\n",
    "    print(i)"
   ]
  },
  {
   "cell_type": "code",
   "execution_count": 33,
   "id": "cb27e8d5-8d4e-489f-8363-888770b08b29",
   "metadata": {},
   "outputs": [
    {
     "data": {
      "text/plain": [
       "'a'"
      ]
     },
     "execution_count": 33,
     "metadata": {},
     "output_type": "execute_result"
    }
   ],
   "source": [
    "# but if we simple do next it will throw err-\n",
    "#next(s) is showing err \"\"\"\"'str' object is not an iterator \"\"\"\"\" so we have to convert it to a iterator then find its next\n",
    "s1=iter(s)\n",
    "next(s1)"
   ]
  },
  {
   "cell_type": "code",
   "execution_count": 34,
   "id": "c0019dc9-abe0-4d32-92f3-67e6a8bc06e3",
   "metadata": {},
   "outputs": [
    {
     "data": {
      "text/plain": [
       "'n'"
      ]
     },
     "execution_count": 34,
     "metadata": {},
     "output_type": "execute_result"
    }
   ],
   "source": [
    "next(s1)"
   ]
  },
  {
   "cell_type": "code",
   "execution_count": 35,
   "id": "3441c8e3-d794-4aa6-8b11-08158c60b2dc",
   "metadata": {},
   "outputs": [
    {
     "data": {
      "text/plain": [
       "'u'"
      ]
     },
     "execution_count": 35,
     "metadata": {},
     "output_type": "execute_result"
    }
   ],
   "source": [
    "next(s1)"
   ]
  },
  {
   "cell_type": "code",
   "execution_count": 36,
   "id": "33018bf3-7b3b-411b-b084-8c19c187cd7f",
   "metadata": {},
   "outputs": [
    {
     "data": {
      "text/plain": [
       "'s'"
      ]
     },
     "execution_count": 36,
     "metadata": {},
     "output_type": "execute_result"
    }
   ],
   "source": [
    "next(s1)\n",
    "#and so on... now same thing for loop does  converts to iter first then calss it given number of range times"
   ]
  },
  {
   "cell_type": "code",
   "execution_count": 37,
   "id": "8a203381-744a-4892-84df-eb677ec8c545",
   "metadata": {},
   "outputs": [
    {
     "data": {
      "text/plain": [
       "generator"
      ]
     },
     "execution_count": 37,
     "metadata": {},
     "output_type": "execute_result"
    }
   ],
   "source": [
    "#further only iterable things can be converted to iterator , a number cant be convertedt to iter cause it not iterable\n",
    "#iter(34) is showing err \"\"\" 'int' object is not iterable \"\"\"\n",
    "#now since next is working for object of the function means obj of a fun is a iterator bydfault\n",
    "#iterator- jiske next next next me hm jakr value nikal ske without using loop \n",
    "#and iterable is such data that can be converted to iterator\n",
    "#now chekk type of obj of fun \n",
    "type(g)\n",
    "#it is giving type as generator hence generator obj are automatically iterator\n",
    "#we are just giving number of times we should run loop then we just find its next and then its printing next value"
   ]
  },
  {
   "cell_type": "code",
   "execution_count": 38,
   "id": "34ae7cf6-e0c1-42a1-933a-0b19ce49e793",
   "metadata": {},
   "outputs": [],
   "source": [
    "def countii(n):\n",
    "    count = 1\n",
    "    while count<=n:\n",
    "        yield count\n",
    "        count+=1"
   ]
  },
  {
   "cell_type": "code",
   "execution_count": 39,
   "id": "f86f60e3-f878-4479-a578-9994508bc09a",
   "metadata": {},
   "outputs": [
    {
     "data": {
      "text/plain": [
       "generator"
      ]
     },
     "execution_count": 39,
     "metadata": {},
     "output_type": "execute_result"
    }
   ],
   "source": [
    "#create obj of fn\n",
    "c=countii(10)\n",
    "#check its type giving generator\n",
    "type(c)"
   ]
  },
  {
   "cell_type": "code",
   "execution_count": 40,
   "id": "73bdab88-a133-4fb9-9121-46d4aa242ec1",
   "metadata": {},
   "outputs": [
    {
     "name": "stdout",
     "output_type": "stream",
     "text": [
      "1\n",
      "2\n",
      "3\n",
      "4\n",
      "5\n",
      "6\n",
      "7\n",
      "8\n",
      "9\n",
      "10\n"
     ]
    }
   ],
   "source": [
    "for i in c:\n",
    "    print(i)"
   ]
  },
  {
   "cell_type": "code",
   "execution_count": 41,
   "id": "ff1de17b-04f5-4a2d-9e79-1a1c0da1f9d2",
   "metadata": {},
   "outputs": [
    {
     "name": "stdout",
     "output_type": "stream",
     "text": [
      "1\n",
      "2\n",
      "3\n",
      "4\n",
      "5\n",
      "6\n",
      "7\n",
      "8\n",
      "9\n",
      "10\n",
      "11\n"
     ]
    }
   ],
   "source": [
    "# also we can do\n",
    "#here we did it without creating obj so next is not used\n",
    "for i in countii(11):\n",
    "    print(i)"
   ]
  },
  {
   "cell_type": "code",
   "execution_count": 42,
   "id": "fe8a2fb1-6728-4cfe-8779-40498f42fc8a",
   "metadata": {},
   "outputs": [
    {
     "data": {
      "text/plain": [
       "generator"
      ]
     },
     "execution_count": 42,
     "metadata": {},
     "output_type": "execute_result"
    }
   ],
   "source": [
    "type(countii(7))"
   ]
  },
  {
   "cell_type": "code",
   "execution_count": 43,
   "id": "9223c222-a7a7-47f4-b87e-180ba4d3a6ae",
   "metadata": {},
   "outputs": [
    {
     "data": {
      "text/plain": [
       "15625"
      ]
     },
     "execution_count": 43,
     "metadata": {},
     "output_type": "execute_result"
    }
   ],
   "source": [
    "#lambda function--\n",
    "#A lambda function is a small anonymous function,lambda fn can take any number of arguments,but can only have one expression\n",
    "#lanbda is a reserve keyword in py\n",
    "#lambda fn are one liner function means defined in single line only\n",
    "#lambda is called as a anonimous fn cause we dont define its name just agrs and output and done\n",
    "#for eg- for a normal fun for calculating the pow value--\n",
    "def poww(n,p):\n",
    "    return n**p\n",
    "poww(5,6)"
   ]
  },
  {
   "cell_type": "code",
   "execution_count": 44,
   "id": "9524318d-b344-4156-b533-1c2571f06ee9",
   "metadata": {},
   "outputs": [
    {
     "data": {
      "text/plain": [
       "<function __main__.<lambda>(n, p)>"
      ]
     },
     "execution_count": 44,
     "metadata": {},
     "output_type": "execute_result"
    }
   ],
   "source": [
    "#now doint it with lambda--\n",
    "lambda n,p:n**p"
   ]
  },
  {
   "cell_type": "code",
   "execution_count": 45,
   "id": "3f9165a9-4958-4341-aa46-f29fd7701af4",
   "metadata": {},
   "outputs": [],
   "source": [
    "a=lambda n,p:n**p"
   ]
  },
  {
   "cell_type": "code",
   "execution_count": 46,
   "id": "f68c0c63-3d84-4b69-a493-a3279525b9af",
   "metadata": {},
   "outputs": [
    {
     "data": {
      "text/plain": [
       "15625"
      ]
     },
     "execution_count": 46,
     "metadata": {},
     "output_type": "execute_result"
    }
   ],
   "source": [
    "#now we can call it like\n",
    "a(5,6)"
   ]
  },
  {
   "cell_type": "code",
   "execution_count": 47,
   "id": "7d612bf5-1ca1-47f9-bba1-edb739d181da",
   "metadata": {},
   "outputs": [
    {
     "data": {
      "text/plain": [
       "11"
      ]
     },
     "execution_count": 47,
     "metadata": {},
     "output_type": "execute_result"
    }
   ],
   "source": [
    "#now add of 2 num by lambda fn\n",
    "#here we defined fun and didnt gave it a name just created its obj and called fn through object\n",
    "#now use lambda fn for basic small fn but for coplex it wont work\n",
    "add= lambda x,y:x+y\n",
    "add(5,6)"
   ]
  },
  {
   "cell_type": "code",
   "execution_count": 48,
   "id": "1a4a7263-1a19-47e8-b825-4ce24f569805",
   "metadata": {},
   "outputs": [
    {
     "data": {
      "text/plain": [
       "113.0"
      ]
     },
     "execution_count": 48,
     "metadata": {},
     "output_type": "execute_result"
    }
   ],
   "source": [
    "#lambda fn for clesiuis to farenhiet conversion-\n",
    "ctof= lambda c: c*9/5 + 32\n",
    "ctof(45)"
   ]
  },
  {
   "cell_type": "code",
   "execution_count": 49,
   "id": "d8071e19-edf5-46c2-b448-3ae8e2ec4eee",
   "metadata": {},
   "outputs": [
    {
     "data": {
      "text/plain": [
       "13"
      ]
     },
     "execution_count": 49,
     "metadata": {},
     "output_type": "execute_result"
    }
   ],
   "source": [
    "#max of 2 using lambda\n",
    "max2= lambda z,w: z if z>w else w\n",
    "max2(10,13)"
   ]
  },
  {
   "cell_type": "code",
   "execution_count": 62,
   "id": "6ff47193-47e1-4b47-b32d-b555c6eb9dd3",
   "metadata": {},
   "outputs": [
    {
     "data": {
      "text/plain": [
       "7"
      ]
     },
     "execution_count": 62,
     "metadata": {},
     "output_type": "execute_result"
    }
   ],
   "source": [
    "#len of str using lambda fn\n",
    "lemi=lambda s: len(s)\n",
    "lemi(\"Anushka\")"
   ]
  },
  {
   "cell_type": "markdown",
   "id": "f0aaeb6a-f71c-44d2-887f-7566baee0237",
   "metadata": {},
   "source": [
    "map function"
   ]
  },
  {
   "cell_type": "code",
   "execution_count": 51,
   "id": "8d445898-fbe7-4b1c-a6ae-96f8c5844a1c",
   "metadata": {},
   "outputs": [
    {
     "data": {
      "text/plain": [
       "<map at 0x7f40b84001f0>"
      ]
     },
     "execution_count": 51,
     "metadata": {},
     "output_type": "execute_result"
    }
   ],
   "source": [
    "#map function------\n",
    "#map(func, *iterables) --> map object\n",
    "#map fn is a in built fn in python we give a fun in its first arg and the data structure in as second arg \n",
    "#map fun just maps the work of first arg with all elements of second arg\n",
    "#map() returns a map object, which is an iterator that yields items on demand. So, the natural replacement for map() is a generator expression because generator expressions return generator objects, which are also iterators that yield items on demand.\n",
    "#eg-\n",
    "map(lambda a:a**2 , [1,23,4,5,6,2,3])"
   ]
  },
  {
   "cell_type": "code",
   "execution_count": 52,
   "id": "cade523a-2989-4670-a393-bcc03a350249",
   "metadata": {},
   "outputs": [
    {
     "data": {
      "text/plain": [
       "[1, 529, 16, 25, 36, 4, 9]"
      ]
     },
     "execution_count": 52,
     "metadata": {},
     "output_type": "execute_result"
    }
   ],
   "source": [
    "list(map(lambda a:a**2 , [1,23,4,5,6,2,3]))# here we are passing first arg as internal fn we can also pass frst arg as extrnl fn"
   ]
  },
  {
   "cell_type": "code",
   "execution_count": 53,
   "id": "f05d143e-5bdd-4753-9658-14fbeaf88c71",
   "metadata": {},
   "outputs": [
    {
     "data": {
      "text/plain": [
       "[14157, 268, 190, 2, 708, 16, 167, 4699, 8]"
      ]
     },
     "execution_count": 53,
     "metadata": {},
     "output_type": "execute_result"
    }
   ],
   "source": [
    "#add 2 lists index wise:\n",
    "def add2(l1,l2):\n",
    "    l3=[]\n",
    "    for i in range(len(l1)):\n",
    "        l3.append(l1[i]+l2[i])\n",
    "    return l3\n",
    "add2([12,123,45,1,454,5,43,4654,1],[14145,145,145,1,254,11,124,45,7])"
   ]
  },
  {
   "cell_type": "code",
   "execution_count": 66,
   "id": "a1ae0df1-05a5-456c-a821-20812a04ba0b",
   "metadata": {},
   "outputs": [
    {
     "data": {
      "text/plain": [
       "[14157, 268, 190, 2, 708, 16, 167, 4699, 8]"
      ]
     },
     "execution_count": 66,
     "metadata": {},
     "output_type": "execute_result"
    }
   ],
   "source": [
    "#by map:\n",
    "l1=[12,123,45,1,454,5,43,4654,1]\n",
    "l2=[14145,145,145,1,254,11,124,45,7]\n",
    "list(map(lambda a,b:a+b,[12,123,45,1,454,5,43,4654,1],[14145,145,145,1,254,11,124,45,7]))"
   ]
  },
  {
   "cell_type": "code",
   "execution_count": 56,
   "id": "181f3229-4887-4b11-b3af-4603b8a2cbe9",
   "metadata": {},
   "outputs": [
    {
     "data": {
      "text/plain": [
       "[14157, 268, 190, 2, 708, 16, 167, 4699, 8]"
      ]
     },
     "execution_count": 56,
     "metadata": {},
     "output_type": "execute_result"
    }
   ],
   "source": [
    "#by using external fn-\n",
    "def ad(a,b):\n",
    "    return a+b\n",
    "list(map(ad,l1,l2))"
   ]
  },
  {
   "cell_type": "code",
   "execution_count": 61,
   "id": "75281bad-c3c8-4ecb-8b7a-87099638fd3d",
   "metadata": {},
   "outputs": [
    {
     "data": {
      "text/plain": [
       "['A', 'N', 'U', 'S', 'H', 'K', 'A']"
      ]
     },
     "execution_count": 61,
     "metadata": {},
     "output_type": "execute_result"
    }
   ],
   "source": [
    "#str to upper\n",
    "list(map(lambda x:x.upper() , \"anushka\"))"
   ]
  },
  {
   "cell_type": "code",
   "execution_count": 68,
   "id": "837b76ad-3010-4e45-bbc7-ce463919d4a7",
   "metadata": {},
   "outputs": [
    {
     "data": {
      "text/plain": [
       "5338"
      ]
     },
     "execution_count": 68,
     "metadata": {},
     "output_type": "execute_result"
    }
   ],
   "source": [
    "#reduce function--\n",
    "#reduce is not by default availabe in py we have to import it thorugh library\n",
    "#basically work of reduce fn is to reduce or collapse whole arr to return a single value\n",
    "#q- return sum of al elemen t of a list\n",
    "#interanl workin of reduce for eg in a list like l=[1,2,3,4] is works as first adds 1 and 2=3 then adds 3 and 3=6 then adds 6and 4=10\n",
    "#we cant pass 3 args in lambda using reduce because it may show endex not found err\n",
    "from functools import reduce\n",
    "reduce(lambda t,y:t+y,l1)"
   ]
  },
  {
   "cell_type": "code",
   "execution_count": 72,
   "id": "a01c6218-5b5e-417b-910b-617171ee5f33",
   "metadata": {},
   "outputs": [
    {
     "data": {
      "text/plain": [
       "3039559526865600"
      ]
     },
     "execution_count": 72,
     "metadata": {},
     "output_type": "execute_result"
    }
   ],
   "source": [
    "#multiplication of entire list--\n",
    "l=[1,2,3,4,45,4435,4542,46572,3]\n",
    "reduce(lambda a,b:a*b, l)"
   ]
  },
  {
   "cell_type": "code",
   "execution_count": 73,
   "id": "b152518e-b176-4e70-9fcd-7321e059c383",
   "metadata": {},
   "outputs": [
    {
     "data": {
      "text/plain": [
       "46572"
      ]
     },
     "execution_count": 73,
     "metadata": {},
     "output_type": "execute_result"
    }
   ],
   "source": [
    "#to find the highest element of a list\n",
    "reduce(lambda a,b:a if a>b else b , l)"
   ]
  },
  {
   "cell_type": "markdown",
   "id": "f611d3fd-a69f-4449-8e13-0c98a7a199f1",
   "metadata": {},
   "source": [
    "filter function"
   ]
  },
  {
   "cell_type": "code",
   "execution_count": 78,
   "id": "5f25d93a-226c-461b-8b58-fc7fce3c6be2",
   "metadata": {},
   "outputs": [
    {
     "data": {
      "text/plain": [
       "[2, 4, 4542, 46572]"
      ]
     },
     "execution_count": 78,
     "metadata": {},
     "output_type": "execute_result"
    }
   ],
   "source": [
    "#return few elements out of a arr that satisfies the given condition\n",
    "#basically filter function, filters the iterable data structure according to the given condition and gives the filter ds\n",
    "#to give even numbers out of a list\n",
    "list(filter( lambda a:a%2==0 ,l))"
   ]
  },
  {
   "cell_type": "code",
   "execution_count": 79,
   "id": "04691a44-77f0-4f31-bc87-f96c222f17ce",
   "metadata": {},
   "outputs": [
    {
     "data": {
      "text/plain": [
       "[1, 3, 45, 4435, 3]"
      ]
     },
     "execution_count": 79,
     "metadata": {},
     "output_type": "execute_result"
    }
   ],
   "source": [
    "#for odd\n",
    "list(filter( lambda a:a%2!=0 ,l))"
   ]
  },
  {
   "cell_type": "code",
   "execution_count": 80,
   "id": "3e493d01-707b-4f39-958a-98ffc107f521",
   "metadata": {},
   "outputs": [
    {
     "data": {
      "text/plain": [
       "[-145, -1454, -1, -2, -9]"
      ]
     },
     "execution_count": 80,
     "metadata": {},
     "output_type": "execute_result"
    }
   ],
   "source": [
    "#print neg number of a list\n",
    "l3=[1,2,5,3,356,2,56,526,-145,45,456,-1454,-1,-2,-9,14]\n",
    "list(filter(lambda a: a<0 ,l3))"
   ]
  },
  {
   "cell_type": "code",
   "execution_count": 81,
   "id": "cad26118-4012-4e1f-a67d-6601661ca456",
   "metadata": {},
   "outputs": [
    {
     "data": {
      "text/plain": [
       "['Anushka', 'anushkagupta', 'pwskills']"
      ]
     },
     "execution_count": 81,
     "metadata": {},
     "output_type": "execute_result"
    }
   ],
   "source": [
    "#returnn str less than size 6 in a lis of str\n",
    "ls=[\"Anushka\",\"gupta\",\"anu\",\"siya\",\"anushkagupta\",\"pwskills\"]\n",
    "list(filter(lambda s: len(s)>6, ls))"
   ]
  },
  {
   "cell_type": "code",
   "execution_count": null,
   "id": "8d2123c5-6012-4a60-8d0c-fbadc60e7219",
   "metadata": {},
   "outputs": [],
   "source": []
  }
 ],
 "metadata": {
  "kernelspec": {
   "display_name": "Python 3 (ipykernel)",
   "language": "python",
   "name": "python3"
  },
  "language_info": {
   "codemirror_mode": {
    "name": "ipython",
    "version": 3
   },
   "file_extension": ".py",
   "mimetype": "text/x-python",
   "name": "python",
   "nbconvert_exporter": "python",
   "pygments_lexer": "ipython3",
   "version": "3.10.8"
  }
 },
 "nbformat": 4,
 "nbformat_minor": 5
}
