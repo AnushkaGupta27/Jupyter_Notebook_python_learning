{
 "cells": [
  {
   "cell_type": "code",
   "execution_count": 1,
   "id": "2d28b24d-cfde-44b9-8b62-894c0f1f3d59",
   "metadata": {},
   "outputs": [],
   "source": [
    "#5/0#this show err uncomment and run it"
   ]
  },
  {
   "cell_type": "code",
   "execution_count": 2,
   "id": "01da5372-d7b9-48ba-a8e0-69fb2af67726",
   "metadata": {},
   "outputs": [
    {
     "name": "stdout",
     "output_type": "stream",
     "text": [
      "hey my print\n"
     ]
    }
   ],
   "source": [
    "#f=open(\"most.txt\",'r')#this show err because there is no file name most.txt is available\n",
    "print(\"hey my print\")#this wont be executed because isse phle vali line me err aaya aur production me agr esa ho gya to app crash kr jaega\n",
    "#so basicallly exception handling yhi krta hai ki agr kahi err hai to us err ki likhe aur aage ka code run kre uncomment and run \n"
   ]
  },
  {
   "cell_type": "code",
   "execution_count": 3,
   "id": "f8828767-f2fd-4b56-b9fd-858766974576",
   "metadata": {},
   "outputs": [
    {
     "name": "stdout",
     "output_type": "stream",
     "text": [
      "this is except block for arithmatic division err division by zero\n"
     ]
    }
   ],
   "source": [
    "#therre are try,except,else,finally  4 blocks in the exception handling and every line of suspected code is written in try block and how to handle it is written in except block\n",
    "try:\n",
    "    9/0\n",
    "except Exception as e:\n",
    "    print(\"this is except block for arithmatic division err\",e)"
   ]
  },
  {
   "cell_type": "code",
   "execution_count": 4,
   "id": "1f0b51f0-8992-4eeb-8695-a0615d28413a",
   "metadata": {},
   "outputs": [
    {
     "name": "stdout",
     "output_type": "stream",
     "text": [
      "this is except block for file not found err [Errno 2] No such file or directory: 'ghhh.text'\n",
      "after err\n"
     ]
    }
   ],
   "source": [
    "try:\n",
    "    f=open(\"ghhh.text\",'r')\n",
    "except Exception as e:\n",
    "    print(\"this is except block for file not found err\",e)\n",
    "print(\"after err\")#now this will be executed"
   ]
  },
  {
   "cell_type": "code",
   "execution_count": 5,
   "id": "2d55ef94-8785-4a0c-8770-261d0787847a",
   "metadata": {},
   "outputs": [],
   "source": [
    "try:\n",
    "    f=open(\"great.text\",'w')#since we opened in write mode means no err cause we created file by opening in w mode\n",
    "    f.write(\"greatest text pf era\")#file created and text updated\n",
    "    f.close()\n",
    "except Exception as e:\n",
    "    print(\"this is except block for file not found err\",e)#this not executed in this "
   ]
  },
  {
   "cell_type": "code",
   "execution_count": 6,
   "id": "399fac9e-91c6-4188-99b1-0d9f316948f9",
   "metadata": {},
   "outputs": [
    {
     "name": "stdout",
     "output_type": "stream",
     "text": [
      "else executed without error\n"
     ]
    }
   ],
   "source": [
    "#else block will be executed if try is executed without error\n",
    "try:\n",
    "    f=open(\"great1.text\",'w')#since we opened in write mode means no err cause we created file by opening in w mode\n",
    "    f.write(\"greatest text pf era\")#file created and text updated\n",
    "except Exception as e:\n",
    "    print(\"this is except block for file not found err\",e)\n",
    "else:\n",
    "    f.close()\n",
    "    print(\"else executed without error\")#here else wil execute coz no errr in try block"
   ]
  },
  {
   "cell_type": "code",
   "execution_count": 7,
   "id": "259fc19e-9fb3-461f-ae78-799a6908259d",
   "metadata": {},
   "outputs": [
    {
     "name": "stdout",
     "output_type": "stream",
     "text": [
      "this is except block for file not found err [Errno 2] No such file or directory: 'great2.text'\n"
     ]
    }
   ],
   "source": [
    "try:\n",
    "    f=open(\"great2.text\",'r')#since we opened in write mode means no err cause we created file by opening in w mode\n",
    "    f.write(\"greatest text pf era\")#file created and text updated\n",
    "except Exception as e:\n",
    "    print(\"this is except block for file not found err\",e)\n",
    "else:\n",
    "    f.close()\n",
    "    print(\"else executed without error\")#here else wil not execute coz errr in try block"
   ]
  },
  {
   "cell_type": "code",
   "execution_count": 8,
   "id": "0aae2f62-eaec-4c10-91ec-e031e66c5e0e",
   "metadata": {},
   "outputs": [
    {
     "name": "stdout",
     "output_type": "stream",
     "text": [
      "this is except block for file not found err [Errno 2] No such file or directory: 'greatest.text'\n",
      "this wil always be executed\n"
     ]
    }
   ],
   "source": [
    "#we can do nesting here also\n",
    "#finally block--\n",
    "#in this we write very imp code that is always to be executed this will be executed in evry situaion\n",
    "try:\n",
    "    f=open(\"greatest.text\",'r')#since we opened in write mode means no err cause we created file by opening in w mode\n",
    "    f.write(\"greatest text pf era\")#file created and text updated\n",
    "except Exception as e:\n",
    "    print(\"this is except block for file not found err\",e)\n",
    "finally:\n",
    "    print(\"this wil always be executed\")#despite of err in try block this executed!"
   ]
  },
  {
   "cell_type": "markdown",
   "id": "b12b3696-9465-482b-ae31-ef5a1260a602",
   "metadata": {},
   "source": [
    "custom exception"
   ]
  },
  {
   "cell_type": "code",
   "execution_count": 9,
   "id": "7109c86d-ff54-4ab5-9a5b-fd88174920b0",
   "metadata": {},
   "outputs": [],
   "source": [
    "#usualy most exception like div by 0 , io excep, are give in the exceptions class but whenever any custom exception ouucrs we can handle it by creating a new class and inheriting the old exception classin it\n",
    "class validateage(Exception):\n",
    "    def __init__(self, msg):\n",
    "        self.msg=msg"
   ]
  },
  {
   "cell_type": "code",
   "execution_count": 10,
   "id": "ea5e0b2b-d731-4d9b-b860-4ac489da3744",
   "metadata": {},
   "outputs": [],
   "source": [
    "def validatemsg(age):\n",
    "    if age<0:\n",
    "        raise validateage(\"entered age is less than 0 it cant be\")\n",
    "    elif age>200:\n",
    "        raise validateage(\"entered age is very high\")\n",
    "    else:\n",
    "        print(\"your age is ok\")"
   ]
  },
  {
   "cell_type": "code",
   "execution_count": 11,
   "id": "afe3a5d8-d2ae-410a-b276-708e5c846c5d",
   "metadata": {},
   "outputs": [
    {
     "name": "stdin",
     "output_type": "stream",
     "text": [
      "enter your age:  78\n"
     ]
    }
   ],
   "source": [
    "try:\n",
    "    age = int(input(\"enter your age: \"))\n",
    "    validateage(age)\n",
    "except validateage as e:\n",
    "    print(e)"
   ]
  }
 ],
 "metadata": {
  "kernelspec": {
   "display_name": "Python 3 (ipykernel)",
   "language": "python",
   "name": "python3"
  },
  "language_info": {
   "codemirror_mode": {
    "name": "ipython",
    "version": 3
   },
   "file_extension": ".py",
   "mimetype": "text/x-python",
   "name": "python",
   "nbconvert_exporter": "python",
   "pygments_lexer": "ipython3",
   "version": "3.10.8"
  }
 },
 "nbformat": 4,
 "nbformat_minor": 5
}
