{
 "cells": [
  {
   "cell_type": "code",
   "execution_count": 1,
   "id": "44853329-a146-4fab-acc2-ee76f1c2974d",
   "metadata": {},
   "outputs": [],
   "source": [
    "#file creation, managing , reading , writing etc is managed by file handling\n",
    "f= open(\"first.txt\",'w')#press shift+tab to get info about the function helps in creating a new file in the specified directory first atr is name of the file and 2nd is mode by  default is read mode\n"
   ]
  },
  {
   "cell_type": "code",
   "execution_count": 2,
   "id": "ecb1013b-15a0-47d5-9c42-96564c2732d1",
   "metadata": {},
   "outputs": [
    {
     "data": {
      "text/plain": [
       "'/home/jovyan/work'"
      ]
     },
     "execution_count": 2,
     "metadata": {},
     "output_type": "execute_result"
    }
   ],
   "source": [
    "pwd"
   ]
  },
  {
   "cell_type": "code",
   "execution_count": 3,
   "id": "37b10a09-6363-44d7-9f20-5a0fe26324cb",
   "metadata": {},
   "outputs": [],
   "source": [
    "#ls lists out the all file name of a directory"
   ]
  },
  {
   "cell_type": "code",
   "execution_count": 4,
   "id": "b268216e-000e-43db-8188-9fd04f34b52a",
   "metadata": {},
   "outputs": [
    {
     "name": "stdout",
     "output_type": "stream",
     "text": [
      "anu.txt              first.txt                pyListTup.ipynb     Task1.ipynb\n",
      "Comprehension.ipynb  ForLoop.ipynb            PythonBasics.ipynb  test.bin\n",
      "DictCondtLoop.ipynb  Functions.ipynb          README.md           While.ipynb\n",
      "files.ipynb          loggingNdebugging.ipynb  sample-code.ipynb\n",
      "firstlog.log         oops.ipynb               sec1log.log\n"
     ]
    }
   ],
   "source": [
    "ls"
   ]
  },
  {
   "cell_type": "code",
   "execution_count": 5,
   "id": "994bc0c5-18b5-4c64-ac54-5e736b998754",
   "metadata": {},
   "outputs": [],
   "source": [
    "#this change directory changed the directory '/home/jovyan/work' to /home/jovyan\n",
    "#now files will we save with open will be saved in this specified directory"
   ]
  },
  {
   "cell_type": "code",
   "execution_count": 6,
   "id": "857c60d6-62b7-474f-b3af-8fd5ac06aed0",
   "metadata": {},
   "outputs": [
    {
     "name": "stdout",
     "output_type": "stream",
     "text": [
      "/home/jovyan\n"
     ]
    }
   ],
   "source": [
    "cd /home/jovyan/ "
   ]
  },
  {
   "cell_type": "code",
   "execution_count": 7,
   "id": "b0a4b798-c376-4dad-9331-abf3de951a07",
   "metadata": {},
   "outputs": [
    {
     "data": {
      "text/plain": [
       "'/home/jovyan'"
      ]
     },
     "execution_count": 7,
     "metadata": {},
     "output_type": "execute_result"
    }
   ],
   "source": [
    "pwd"
   ]
  },
  {
   "cell_type": "code",
   "execution_count": 8,
   "id": "4f33bab6-95eb-4dc7-907a-6b866c7e1241",
   "metadata": {},
   "outputs": [],
   "source": [
    "f1=open(\"sec.txt\",'w')"
   ]
  },
  {
   "cell_type": "code",
   "execution_count": 9,
   "id": "1f09ff7a-6ffd-45f0-8af6-cbc13191754d",
   "metadata": {},
   "outputs": [
    {
     "data": {
      "text/plain": [
       "7"
      ]
     },
     "execution_count": 9,
     "metadata": {},
     "output_type": "execute_result"
    }
   ],
   "source": [
    "#to write inside the file we use write fn\n",
    "f1.write(\"anuhska\")"
   ]
  },
  {
   "cell_type": "code",
   "execution_count": 10,
   "id": "b1e0a305-d93c-4a8a-ab87-04cf99df450d",
   "metadata": {},
   "outputs": [],
   "source": [
    "#only doing in a file dont save s it in th file we have to close the file also\n",
    "f1.close()"
   ]
  },
  {
   "cell_type": "code",
   "execution_count": 11,
   "id": "cd587e3f-6acd-440d-8859-60018f6bd10c",
   "metadata": {},
   "outputs": [
    {
     "data": {
      "text/plain": [
       "14"
      ]
     },
     "execution_count": 11,
     "metadata": {},
     "output_type": "execute_result"
    }
   ],
   "source": [
    "#for wriring into a file we firslty we have to oepn that file because we have closed the file before\n",
    "#again we write something in the file \n",
    "f1=open(\"sec.txt\",'w')\n",
    "f1.write(\"anushka hgu[ta\")"
   ]
  },
  {
   "cell_type": "code",
   "execution_count": 12,
   "id": "e7a84160-0292-4c0d-a376-c77661111790",
   "metadata": {},
   "outputs": [],
   "source": [
    "f1.close()"
   ]
  },
  {
   "cell_type": "code",
   "execution_count": 13,
   "id": "b86fcafb-7ff8-48d9-88d2-32e9231c77e3",
   "metadata": {},
   "outputs": [],
   "source": [
    "#now check the data inside the file it has renewed to the new value because we have created or openend the file in the 'w' mode\n",
    "#'w' mode always creats a file in a way such that whenever we write any data in the file it will flush out the old data and the writes the new data \n",
    "#for appending the data after the old data we shouls the file in the 'a' mode\n",
    "f2=open(\"third.txt\",'a')#this only creats file in a mode such that it Appends"
   ]
  },
  {
   "cell_type": "code",
   "execution_count": 14,
   "id": "b9ff0e73-7840-43fd-b5c4-a811cc81fe79",
   "metadata": {},
   "outputs": [],
   "source": [
    "f2.write(\"heyaa anushka this side!\")\n",
    "f2.close()"
   ]
  },
  {
   "cell_type": "code",
   "execution_count": 15,
   "id": "72f8212e-e915-499d-87b7-c859b56b36b5",
   "metadata": {},
   "outputs": [],
   "source": [
    "f2=open(\"third.txt\",'a')\n",
    "f2.write(\"she is a great great girl\")\n",
    "f2.close()"
   ]
  },
  {
   "cell_type": "code",
   "execution_count": 16,
   "id": "2140c79d-2e2c-485e-89e4-45a18fe65ffd",
   "metadata": {},
   "outputs": [
    {
     "data": {
      "text/plain": [
       "'heyaa anushka this side!she is a great great girl'"
      ]
     },
     "execution_count": 16,
     "metadata": {},
     "output_type": "execute_result"
    }
   ],
   "source": [
    "f2=open(\"third.txt\",'r')#this only creats file in a mode such that it reads the file only\n",
    "f2.read()#this will read the file"
   ]
  },
  {
   "cell_type": "code",
   "execution_count": 17,
   "id": "2f5584c3-dcb6-43e7-a84d-e107b715b436",
   "metadata": {},
   "outputs": [
    {
     "data": {
      "text/plain": [
       "''"
      ]
     },
     "execution_count": 17,
     "metadata": {},
     "output_type": "execute_result"
    }
   ],
   "source": [
    "f2.read()#see here it is not printing anythong cause the read pointer has reached end we have to seek it to starting"
   ]
  },
  {
   "cell_type": "code",
   "execution_count": 18,
   "id": "12777926-f8cb-48bb-826b-d4597c04a418",
   "metadata": {},
   "outputs": [
    {
     "data": {
      "text/plain": [
       "'heyaa anushka this side!she is a great great girl'"
      ]
     },
     "execution_count": 18,
     "metadata": {},
     "output_type": "execute_result"
    }
   ],
   "source": [
    "f2.seek(0)#we seeked the pointer in starting so its printing from starting  so now its printing\n",
    "f2.read()#this will read the file"
   ]
  },
  {
   "cell_type": "code",
   "execution_count": 19,
   "id": "0ed2cac6-6e50-436d-9851-210c7a879c6b",
   "metadata": {},
   "outputs": [
    {
     "data": {
      "text/plain": [
       "'heyaa anushka this side!she is a great great girl'"
      ]
     },
     "execution_count": 19,
     "metadata": {},
     "output_type": "execute_result"
    }
   ],
   "source": [
    "#to read data line by line\n",
    "f2.seek(0)\n",
    "f2.readline()"
   ]
  },
  {
   "cell_type": "code",
   "execution_count": 20,
   "id": "936f6393-516a-4a82-8bde-771b28438afa",
   "metadata": {},
   "outputs": [
    {
     "name": "stdout",
     "output_type": "stream",
     "text": [
      "heyaa anushka this side!she is a great great girl\n"
     ]
    }
   ],
   "source": [
    "#to print this line by line\n",
    "f2.seek(0)\n",
    "for i in f2:\n",
    "    print(i)"
   ]
  },
  {
   "cell_type": "code",
   "execution_count": 21,
   "id": "137c7fc2-83f9-40e7-a798-b65b72ff8a24",
   "metadata": {},
   "outputs": [],
   "source": [
    "#similarly we can appedn search any perform various operations in the file"
   ]
  },
  {
   "cell_type": "code",
   "execution_count": 22,
   "id": "5a640889-fae8-4f3c-b1b7-36a97af941be",
   "metadata": {},
   "outputs": [
    {
     "data": {
      "text/plain": [
       "49"
      ]
     },
     "execution_count": 22,
     "metadata": {},
     "output_type": "execute_result"
    }
   ],
   "source": [
    "#to check file size\n",
    "import os\n",
    "os.path.getsize('third.txt')"
   ]
  },
  {
   "cell_type": "code",
   "execution_count": 23,
   "id": "573036a3-ae02-4ab2-a452-481ff1075f71",
   "metadata": {},
   "outputs": [],
   "source": [
    "#to remove any file\n",
    "os.remove('sec.txt')"
   ]
  },
  {
   "cell_type": "code",
   "execution_count": 24,
   "id": "80bdaa7b-a589-4cc8-adc8-d5b54d452ece",
   "metadata": {},
   "outputs": [],
   "source": [
    "#torename any file\n",
    "os.rename('third.txt','only.txt')"
   ]
  },
  {
   "cell_type": "code",
   "execution_count": 25,
   "id": "c47f0469-589a-4fc0-8e2d-b440dbe4687c",
   "metadata": {},
   "outputs": [
    {
     "data": {
      "text/plain": [
       "'onlyscopy.txt'"
      ]
     },
     "execution_count": 25,
     "metadata": {},
     "output_type": "execute_result"
    }
   ],
   "source": [
    "#to creat multiple or a more copy of the file\n",
    "import shutil\n",
    "shutil.copy('only.txt', 'onlyscopy.txt')"
   ]
  },
  {
   "cell_type": "code",
   "execution_count": 26,
   "id": "477b627c-bff6-4571-8270-e0adb3175043",
   "metadata": {},
   "outputs": [
    {
     "name": "stdout",
     "output_type": "stream",
     "text": [
      "heyaa anushka this side!she is a great great girl\n"
     ]
    }
   ],
   "source": [
    "#another method to open , write in file\n",
    "with open ('only.txt','r') as f:\n",
    "    print(i)"
   ]
  },
  {
   "cell_type": "code",
   "execution_count": 27,
   "id": "5addf7a1-0a8f-42ec-8ea5-f6541f34c106",
   "metadata": {},
   "outputs": [
    {
     "name": "stdout",
     "output_type": "stream",
     "text": [
      "heyaa anushka this side!she is a great great girl\n"
     ]
    }
   ],
   "source": [
    "with open ('only.txt','r') as f:\n",
    "    print(f.read())"
   ]
  },
  {
   "cell_type": "code",
   "execution_count": 28,
   "id": "b05d8363-5b8c-432e-acb8-b097f5624921",
   "metadata": {},
   "outputs": [],
   "source": [
    "#to read n writei n the dict\n",
    "data={\n",
    "    \"name\":\"anushka\",\n",
    "    \"email\":\"gupta\",\n",
    "    \"phn no\":287465,\n",
    "    \"subjects\":[\"dbms\",\"cn\",\"DAA\"]\n",
    "}\n",
    "#to inserrt this kind of data inside the file we use json module\n",
    "#json have capability to read , write this kind of file\n",
    "import json\n",
    "with open(\"data1.json\",'w') as f:\n",
    "    json.dump(data,f)"
   ]
  },
  {
   "cell_type": "code",
   "execution_count": 29,
   "id": "59116537-db34-4bca-8cc2-9b2aac232ac3",
   "metadata": {},
   "outputs": [],
   "source": [
    "#we can read this file \n",
    "with open(\"data1.json\",'r') as f:\n",
    "    dic=json.load(f)"
   ]
  },
  {
   "cell_type": "code",
   "execution_count": 30,
   "id": "c0659577-840b-4af3-a49b-a0cc25a76be7",
   "metadata": {},
   "outputs": [
    {
     "data": {
      "text/plain": [
       "{'name': 'anushka',\n",
       " 'email': 'gupta',\n",
       " 'phn no': 287465,\n",
       " 'subjects': ['dbms', 'cn', 'DAA']}"
      ]
     },
     "execution_count": 30,
     "metadata": {},
     "output_type": "execute_result"
    }
   ],
   "source": [
    "dic"
   ]
  },
  {
   "cell_type": "code",
   "execution_count": 31,
   "id": "345bd713-3b0d-4c6c-a1bf-a4d0df58f8a9",
   "metadata": {},
   "outputs": [
    {
     "data": {
      "text/plain": [
       "'cn'"
      ]
     },
     "execution_count": 31,
     "metadata": {},
     "output_type": "execute_result"
    }
   ],
   "source": [
    "dic['subjects'][1]#just for recall"
   ]
  },
  {
   "cell_type": "code",
   "execution_count": 32,
   "id": "f19d66a7-a3b0-42cd-837b-82104af6f53d",
   "metadata": {},
   "outputs": [],
   "source": [
    "#comma seperated value csv:\n",
    "import csv\n",
    "csvdata=[['name','email','phn no'],# this one is the head \n",
    "         ['anshka','nauhska@gmmial.coma',654353],\n",
    "         ['anushka','jdfhhauh@jksfh.hfgv',238768]\n",
    "]"
   ]
  },
  {
   "cell_type": "code",
   "execution_count": 33,
   "id": "4b0a8788-7dcc-4243-b7fb-d5c6350e3f9c",
   "metadata": {},
   "outputs": [],
   "source": [
    "#to create a csv file and put this data inside that file\n",
    "#so basicaly we have to create a writer file forst and the put the datainside that file\n",
    "with open(\"csvdata.csv\",'w') as f:\n",
    "    writer= csv.writer(f)\n",
    "    for i in csvdata:\n",
    "        writer.writerow(i)"
   ]
  },
  {
   "cell_type": "code",
   "execution_count": 34,
   "id": "70b52d04-bf6c-48bf-abf9-f38554536e02",
   "metadata": {},
   "outputs": [
    {
     "name": "stdout",
     "output_type": "stream",
     "text": [
      "['name', 'email', 'phn no']\n",
      "['anshka', 'nauhska@gmmial.coma', '654353']\n",
      "['anushka', 'jdfhhauh@jksfh.hfgv', '238768']\n"
     ]
    }
   ],
   "source": [
    "# to rread same data\n",
    "with open(\"csvdata.csv\",'r') as f:\n",
    "    reader= csv.reader(f)\n",
    "    for i in reader:\n",
    "        print(i)"
   ]
  },
  {
   "cell_type": "code",
   "execution_count": 35,
   "id": "a3f0f574-4ba1-4119-84a8-33bcc21099b7",
   "metadata": {},
   "outputs": [],
   "source": [
    "#we can create , read , write binary files bianry files are saved with .bin extension\n",
    "with open(\"test.bin\",'wb') as fb:\n",
    "    fb.write(b\"\\x01,\\x02,\\x03\\x765476\")"
   ]
  },
  {
   "cell_type": "code",
   "execution_count": 36,
   "id": "8eaa1129-7e7e-454f-92eb-c57ea50ebf66",
   "metadata": {},
   "outputs": [
    {
     "name": "stdout",
     "output_type": "stream",
     "text": [
      "b'\\x01,\\x02,\\x03v5476'\n"
     ]
    }
   ],
   "source": [
    "#reading\n",
    "with open(\"test.bin\",'rb') as fb:\n",
    "    print(fb.read())"
   ]
  },
  {
   "cell_type": "markdown",
   "id": "cff9676c-6cc8-494f-9a87-d1cf91afb53f",
   "metadata": {},
   "source": [
    "buffered read and write"
   ]
  },
  {
   "cell_type": "code",
   "execution_count": 37,
   "id": "e7b4ccd6-8cc9-4d38-81d7-c1dd15c0718a",
   "metadata": {},
   "outputs": [],
   "source": [
    "#just a way of writing or reading data from a file or on a file \n",
    "#the only difference is that buffered read reads big files in chunk\n",
    "import io\n",
    "with open(\"anu.txt\", 'wb') as fbb:\n",
    "    file=io.BufferedWriter(fbb)\n",
    "    file.write(b\"he hey anushhhka here!!\")\n",
    "    file.write(b\"\\n hola dudu wassup\")\n",
    "    file.flush()#we always need to close any file after writing something in it otw file will be created but data wont be passed thed\n",
    "    "
   ]
  },
  {
   "cell_type": "code",
   "execution_count": 38,
   "id": "68229e5b-ffd2-4f08-942f-36bffd833479",
   "metadata": {},
   "outputs": [
    {
     "name": "stdout",
     "output_type": "stream",
     "text": [
      "b'he hey anushhhka here!!\\n'\n",
      "b' hola dudu wassup'\n"
     ]
    }
   ],
   "source": [
    "#read data from a buffered reader \n",
    "with open(\"anu.txt\",'rb') as fbb:\n",
    "    file= io.BufferedReader(fbb)\n",
    "    for i in file:\n",
    "        print(i)"
   ]
  },
  {
   "cell_type": "code",
   "execution_count": 39,
   "id": "1e5c0e78-d481-41e5-949d-800692975b9d",
   "metadata": {},
   "outputs": [
    {
     "name": "stdout",
     "output_type": "stream",
     "text": [
      "b'he hey anushhhka here!!\\n hola dudu wassup'\n"
     ]
    }
   ],
   "source": [
    "#another way\n",
    "with open(\"anu.txt\",'rb') as fbb:\n",
    "    file= io.BufferedReader(fbb)\n",
    "    print(file.read())#inside the paranthesis of read we can define some bytes that we want to be printed on screen"
   ]
  },
  {
   "cell_type": "markdown",
   "id": "92dc71b1-22ab-4b48-820c-b14e8cf8616e",
   "metadata": {},
   "source": [
    "logging and debugging"
   ]
  },
  {
   "cell_type": "code",
   "execution_count": 40,
   "id": "393428f5-aabc-489e-afa3-771c47f27f7e",
   "metadata": {},
   "outputs": [
    {
     "name": "stdout",
     "output_type": "stream",
     "text": [
      "bye bye print\n"
     ]
    }
   ],
   "source": [
    "#logging is basically very similaer to the print statement in this instedof printing in the console we save whole info of the \n",
    "#code in a file , data printed in console is temporary after sometime it removed , so while working in production of any softwre\n",
    "#we dont prefer to write in console woth print instead we log every detail in a log file this makes investigation easier for us cause every error or process\n",
    "#thaat happen is written in the log file, with a log file we save every step we took, in a log file that saves in hard disk permanently\n",
    "print(\"bye bye print\")"
   ]
  },
  {
   "cell_type": "code",
   "execution_count": 41,
   "id": "947eee30-02ec-4bbc-aa16-4ec01993058e",
   "metadata": {},
   "outputs": [],
   "source": [
    "import logging\n",
    "#first we set basic configuration for logging, in this we set that in which typeof file we are gonna save log (filename,level various levels in it\n",
    "logging.basicConfig(filename=\"firstlog.log\", level=logging.INFO)\n",
    "logging.info(\"hey tis is my first log\")#this is the way of storing the log in file\n",
    "logging.info(\"hey sec loggo\")"
   ]
  },
  {
   "cell_type": "code",
   "execution_count": 42,
   "id": "a6e52b35-54ad-4c7b-88ae-8bc19e8bf32d",
   "metadata": {},
   "outputs": [],
   "source": [
    "#logging is defined 6 levels if we defined a level we can call logging.xyz after that level , cant call uppper level to that\n",
    "#1-NOTSET\n",
    "#2-DEBUG\n",
    "#3-INFO \n",
    "#4-WARNING\n",
    "#5-ERROR\n",
    "#6-CRITICAL\n",
    "#since above in basiconfig we hav defined level as info so we can save our log in levels info,warning,error,critical\n",
    "logging.warning(\"heya here goes a warning for you unnececarry step\")\n",
    "logging.error(\"error ahead\")\n",
    "logging.critical(\"hola its a critical isuue to resolve\")\n",
    "logging.debug(\"oo why tf itis not saving in the log, lol cause this is one level up ;)\")\n",
    "logging.error(\"hatinn\")\n",
    "#these levels are basically defined for classifying various logs in different diffeent files in makes convinient\n",
    "logging.shutdown()#we have to shut down one log to use and create another log below we are creating one more log"
   ]
  },
  {
   "cell_type": "code",
   "execution_count": 47,
   "id": "c69b8931-e38e-4652-bbcd-bfe4a5e23836",
   "metadata": {},
   "outputs": [],
   "source": [
    "#to get time on the log file we add one more atr in the basic configuration\n",
    "import logging\n",
    "logging.basicConfig(filename=\"seclog.log\",level= logging.DEBUG, format= '%(asctime)s %(message)s')\n",
    "logging.error(\"error\")"
   ]
  },
  {
   "cell_type": "code",
   "execution_count": null,
   "id": "703d7660-7871-4ee0-9650-f6c5e160873e",
   "metadata": {},
   "outputs": [],
   "source": []
  },
  {
   "cell_type": "code",
   "execution_count": null,
   "id": "ac80efcf-04bc-44c4-8312-bd4179ed9168",
   "metadata": {},
   "outputs": [],
   "source": []
  }
 ],
 "metadata": {
  "kernelspec": {
   "display_name": "Python 3 (ipykernel)",
   "language": "python",
   "name": "python3"
  },
  "language_info": {
   "codemirror_mode": {
    "name": "ipython",
    "version": 3
   },
   "file_extension": ".py",
   "mimetype": "text/x-python",
   "name": "python",
   "nbconvert_exporter": "python",
   "pygments_lexer": "ipython3",
   "version": "3.10.8"
  }
 },
 "nbformat": 4,
 "nbformat_minor": 5
}
