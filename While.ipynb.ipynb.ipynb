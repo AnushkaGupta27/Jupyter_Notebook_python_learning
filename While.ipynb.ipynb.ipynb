{
 "cells": [
  {
   "cell_type": "code",
   "execution_count": 1,
   "id": "230f0734-cfdc-4eb6-82d9-4e27614a2a82",
   "metadata": {},
   "outputs": [
    {
     "name": "stdout",
     "output_type": "stream",
     "text": [
      "1\n",
      "2\n",
      "3\n",
      "4\n",
      "5\n",
      "6\n",
      "7\n",
      "8\n",
      "9\n",
      "10\n",
      "heyaa\n"
     ]
    }
   ],
   "source": [
    "#while loop is used under some condition when we dont know exactly how many times we will need to execute loop\n",
    "i=10\n",
    "j=1\n",
    "while j<=i:\n",
    "    print(j)\n",
    "    j+=1\n",
    "print(\"heyaa\")"
   ]
  },
  {
   "cell_type": "code",
   "execution_count": 2,
   "id": "0126109b-50f3-40ca-93c8-7b09b16f76a7",
   "metadata": {},
   "outputs": [
    {
     "name": "stdin",
     "output_type": "stream",
     "text": [
      "enter value in the limit:  10\n"
     ]
    },
    {
     "name": "stdout",
     "output_type": "stream",
     "text": [
      "55\n"
     ]
    }
   ],
   "source": [
    "#print sum till a limit\n",
    "i=int(input(\"enter value in the limit: \"))\n",
    "j=1\n",
    "sumi=0\n",
    "while j<=i:\n",
    "    sumi+=j\n",
    "    j+=1\n",
    "print(sumi)"
   ]
  },
  {
   "cell_type": "code",
   "execution_count": 3,
   "id": "0c44e17d-2e59-4162-9e22-3884e99b5977",
   "metadata": {},
   "outputs": [
    {
     "name": "stdin",
     "output_type": "stream",
     "text": [
      "enter number:  10\n"
     ]
    },
    {
     "name": "stdout",
     "output_type": "stream",
     "text": [
      "3628800\n"
     ]
    }
   ],
   "source": [
    "#factorial--\n",
    "i=int(input(\"enter number: \"))\n",
    "fact=1\n",
    "j=1\n",
    "while j<=i:\n",
    "    fact*=j\n",
    "    j+=1\n",
    "print(fact)"
   ]
  },
  {
   "cell_type": "code",
   "execution_count": 12,
   "id": "d4d9ac55-74a2-4e20-a050-dd332efec8a9",
   "metadata": {},
   "outputs": [
    {
     "name": "stdin",
     "output_type": "stream",
     "text": [
      "enter the number of terms:  10\n"
     ]
    },
    {
     "name": "stdout",
     "output_type": "stream",
     "text": [
      "0\n",
      "1\n",
      "1\n",
      "2\n",
      "3\n",
      "5\n",
      "8\n",
      "13\n",
      "21\n",
      "34\n"
     ]
    }
   ],
   "source": [
    "#fibonacci--\n",
    "i=int(input(\"enter the number of terms: \"))\n",
    "a=0\n",
    "b=1\n",
    "j=0\n",
    "while j<i:\n",
    "    print(a)\n",
    "    c=a+b\n",
    "    a=b\n",
    "    b=c\n",
    "    j+=1"
   ]
  },
  {
   "cell_type": "code",
   "execution_count": 5,
   "id": "dcdc746c-324a-4200-ad61-ea5d425165fe",
   "metadata": {},
   "outputs": [
    {
     "name": "stdin",
     "output_type": "stream",
     "text": [
      "enter num of terms:  5\n"
     ]
    },
    {
     "name": "stdout",
     "output_type": "stream",
     "text": [
      "0\n",
      "1\n",
      "1\n",
      "2\n",
      "3\n"
     ]
    }
   ],
   "source": [
    "#fib using for loop--\n",
    "i=int(input(\"enter num of terms: \"))\n",
    "a=0\n",
    "b=1\n",
    "for i in range(i):\n",
    "    print(a)\n",
    "    c=a+b\n",
    "    a=b\n",
    "    b=c"
   ]
  },
  {
   "cell_type": "code",
   "execution_count": 6,
   "id": "0776d56d-6cc8-4699-a7c4-e5e207372cab",
   "metadata": {},
   "outputs": [
    {
     "name": "stdout",
     "output_type": "stream",
     "text": [
      "1\n",
      "2\n",
      "3\n",
      "4\n",
      "5\n",
      "6\n",
      "7\n",
      "8\n",
      "9\n",
      "completed execution\n"
     ]
    }
   ],
   "source": [
    "#while-else loop \n",
    "#here also else will execute only if while is executed successfully\n",
    "i=1\n",
    "while i<10:\n",
    "    print(i)\n",
    "    i+=1\n",
    "else:\n",
    "    print(\"completed execution\")"
   ]
  },
  {
   "cell_type": "code",
   "execution_count": 7,
   "id": "d736512b-28d7-40d3-bb45-6f324e20941d",
   "metadata": {},
   "outputs": [
    {
     "name": "stdout",
     "output_type": "stream",
     "text": [
      "1\n",
      "2\n",
      "3\n",
      "4\n",
      "5\n"
     ]
    }
   ],
   "source": [
    "#here else didnt executed because loop is broken in between due to some condition\n",
    "i=1\n",
    "while i<10:\n",
    "    print(i)\n",
    "    if i==5:\n",
    "        break\n",
    "    i+=1\n",
    "else:\n",
    "    print(\"completed execution\")"
   ]
  },
  {
   "cell_type": "code",
   "execution_count": 8,
   "id": "f2b98a9b-4b98-43d5-8c79-0223ead49293",
   "metadata": {},
   "outputs": [
    {
     "name": "stdout",
     "output_type": "stream",
     "text": [
      "akhsuna\n"
     ]
    }
   ],
   "source": [
    "#reverse string using while\n",
    "s=\"anushka\"\n",
    "reverse=\"\"\n",
    "i=len(s)-1\n",
    "while i>=0:\n",
    "    reverse+=s[i]\n",
    "    i-=1\n",
    "print(reverse)"
   ]
  },
  {
   "cell_type": "code",
   "execution_count": 9,
   "id": "ecd439a9-7f6e-453e-9e53-3fd5299a91a1",
   "metadata": {},
   "outputs": [
    {
     "name": "stdin",
     "output_type": "stream",
     "text": [
      "enter num 5\n"
     ]
    },
    {
     "name": "stdout",
     "output_type": "stream",
     "text": [
      "5 x 1  =  5\n",
      "5 x 2  =  10\n",
      "5 x 3  =  15\n",
      "5 x 4  =  20\n",
      "5 x 5  =  25\n",
      "5 x 6  =  30\n",
      "5 x 7  =  35\n",
      "5 x 8  =  40\n",
      "5 x 9  =  45\n",
      "5 x 10  =  50\n"
     ]
    }
   ],
   "source": [
    "#print table of anumber\n",
    "n=int(input(\"enter num\"))\n",
    "i=1\n",
    "while i<=10:\n",
    "    print(n,\"x\",i,\" = \",n*i)\n",
    "    i+=1"
   ]
  },
  {
   "cell_type": "code",
   "execution_count": null,
   "id": "ce2cacb0-35ed-4386-895f-7587ff8a4f74",
   "metadata": {},
   "outputs": [],
   "source": []
  }
 ],
 "metadata": {
  "kernelspec": {
   "display_name": "Python 3 (ipykernel)",
   "language": "python",
   "name": "python3"
  },
  "language_info": {
   "codemirror_mode": {
    "name": "ipython",
    "version": 3
   },
   "file_extension": ".py",
   "mimetype": "text/x-python",
   "name": "python",
   "nbconvert_exporter": "python",
   "pygments_lexer": "ipython3",
   "version": "3.10.8"
  }
 },
 "nbformat": 4,
 "nbformat_minor": 5
}
