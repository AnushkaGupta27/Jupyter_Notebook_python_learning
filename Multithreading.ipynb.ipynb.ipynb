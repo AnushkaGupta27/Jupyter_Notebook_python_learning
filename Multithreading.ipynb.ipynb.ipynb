{
 "cells": [
  {
   "cell_type": "code",
   "execution_count": 1,
   "id": "b739ff4e-345b-466a-9d7d-1e567b54754a",
   "metadata": {},
   "outputs": [],
   "source": [
    "#whenver we run a program it occupies atleast one core in the cpu but by multithreading we provide threads to the programs \n",
    "#so multiple programs can run simultaneously in a core by providing htem threads ek core ke andr multiple program\n",
    "#we will use threading module to run multiple progs in a single core\n",
    "import threading\n",
    "def test(id):\n",
    "    print(\"this prog is %d\"% id)"
   ]
  },
  {
   "cell_type": "code",
   "execution_count": 2,
   "id": "46420581-3412-44cf-9e8e-7946524d862c",
   "metadata": {},
   "outputs": [
    {
     "name": "stdout",
     "output_type": "stream",
     "text": [
      "this prog is 34\n"
     ]
    }
   ],
   "source": [
    "test(34)\n",
    "#this is a single program only"
   ]
  },
  {
   "cell_type": "code",
   "execution_count": 3,
   "id": "591c0b5f-06df-4ab8-8766-c8b56497f2c7",
   "metadata": {},
   "outputs": [],
   "source": [
    "#to do multithreading we use a mehtod of threading module\n",
    "thread=[threading.Thread(target = test, args=(i, )) for i in range(10)]#this takes arg as the fn we are using and the args of that fn\n",
    "#means we are running this prog in a core for multiple inputs by creating its threads for every single input run"
   ]
  },
  {
   "cell_type": "code",
   "execution_count": 4,
   "id": "6653b5c3-dfe1-44ea-89a4-6f8641ac4b0e",
   "metadata": {},
   "outputs": [
    {
     "name": "stdout",
     "output_type": "stream",
     "text": [
      "this prog is 0\n",
      "this prog is 1\n",
      "this prog is 2\n",
      "this prog is 3\n",
      "this prog is 4\n",
      "this prog is 5\n",
      "this prog is 6\n",
      "this prog is 7\n",
      "this prog is 8\n",
      "this prog is 9\n"
     ]
    }
   ],
   "source": [
    "#yha basicaly program ek hi tha but uske 10 instance ya 10 threads bnakr we are running it for 10 times with diff inputs\n",
    "for t in thread:\n",
    "    t.start()"
   ]
  },
  {
   "cell_type": "code",
   "execution_count": 5,
   "id": "c43e9c2c-a110-4c91-803d-1ec8094f41c5",
   "metadata": {},
   "outputs": [
    {
     "data": {
      "text/plain": [
       "[<Thread(Thread-5 (test), stopped 139842834908736)>,\n",
       " <Thread(Thread-6 (test), stopped 139842834908736)>,\n",
       " <Thread(Thread-7 (test), stopped 139842834908736)>,\n",
       " <Thread(Thread-8 (test), stopped 139842834908736)>,\n",
       " <Thread(Thread-9 (test), stopped 139842834908736)>,\n",
       " <Thread(Thread-10 (test), stopped 139842834908736)>,\n",
       " <Thread(Thread-11 (test), stopped 139842834908736)>,\n",
       " <Thread(Thread-12 (test), stopped 139842834908736)>,\n",
       " <Thread(Thread-13 (test), stopped 139842834908736)>,\n",
       " <Thread(Thread-14 (test), stopped 139842834908736)>]"
      ]
     },
     "execution_count": 5,
     "metadata": {},
     "output_type": "execute_result"
    }
   ],
   "source": [
    "thread"
   ]
  },
  {
   "cell_type": "code",
   "execution_count": 6,
   "id": "30f7d51b-dba0-4583-871a-5ff96d706f72",
   "metadata": {},
   "outputs": [
    {
     "data": {
      "text/plain": [
       "139843198808576"
      ]
     },
     "execution_count": 6,
     "metadata": {},
     "output_type": "execute_result"
    }
   ],
   "source": [
    "#single means it is running in single process but its threads are creating in core to run different prog\n",
    "id(thread)"
   ]
  },
  {
   "cell_type": "code",
   "execution_count": 7,
   "id": "d97ee50a-eb99-4e84-8d41-15aadbca72e8",
   "metadata": {},
   "outputs": [],
   "source": [
    "#now we are using multiple files in internet to be downloadedinto our system in diff files by using foll code\n",
    "import threading\n",
    "import urllib.request\n",
    "def file_download(url, fname):\n",
    "    urllib.request.urlretrieve(url,fname)"
   ]
  },
  {
   "cell_type": "code",
   "execution_count": 8,
   "id": "b606ce23-13bd-4382-9e4f-ed4cee2472f3",
   "metadata": {},
   "outputs": [],
   "source": [
    "file_download(\"https://gist.github.com/robin/498412.js\", 'testoo.txt')"
   ]
  },
  {
   "cell_type": "code",
   "execution_count": 9,
   "id": "f3450df1-5f07-47bc-9bce-ffb1bf42c2d1",
   "metadata": {},
   "outputs": [],
   "source": [
    "url_l=[\"https://github.com/sanjib-asiwal/Leetcode-codes/blob/main/Leetcode%2035.%20Search%20Insert%20Position\",\"https://gist.github.com/robin/498412.js\"]\n",
    "filen_l=['testoo1.txt','testoo2.txt']"
   ]
  },
  {
   "cell_type": "code",
   "execution_count": 10,
   "id": "a44e7a1e-2952-4fa8-a2dd-6ba9d0bfe2ba",
   "metadata": {},
   "outputs": [],
   "source": [
    "thread1= [threading.Thread(target=file_download , args=(url_l[i],filen_l[i])) for i in range(len(url_l))]"
   ]
  },
  {
   "cell_type": "code",
   "execution_count": 11,
   "id": "20a45a29-bbc2-4163-91ed-ad812a52d2e2",
   "metadata": {},
   "outputs": [
    {
     "data": {
      "text/plain": [
       "['https://github.com/sanjib-asiwal/Leetcode-codes/blob/main/Leetcode%2035.%20Search%20Insert%20Position',\n",
       " 'https://gist.github.com/robin/498412.js']"
      ]
     },
     "execution_count": 11,
     "metadata": {},
     "output_type": "execute_result"
    }
   ],
   "source": [
    "url_l"
   ]
  },
  {
   "cell_type": "code",
   "execution_count": 12,
   "id": "bb5da605-00ef-470e-b72e-1df4b463bfe6",
   "metadata": {},
   "outputs": [],
   "source": [
    "for t in thread1:\n",
    "    t.start()"
   ]
  },
  {
   "cell_type": "code",
   "execution_count": 13,
   "id": "4f216ee6-22b8-4407-8b28-a564c71d9933",
   "metadata": {},
   "outputs": [],
   "source": [
    "#to implement multi threading we add some sleep timer to the fn so that it can implement another prog during the sleep time of one prog\n",
    "def test1(id):\n",
    "    for i in range(10):\n",
    "        print(\"test %d printing i %d %s\"%(id,i,time.ctime()))\n",
    "        time.sleep(1)"
   ]
  },
  {
   "cell_type": "code",
   "execution_count": 14,
   "id": "4fd27e79-4c9c-4e56-a78e-5f26ebe36749",
   "metadata": {},
   "outputs": [],
   "source": [
    "import time\n",
    "thread2=[threading.Thread(target=test1, args=(j,)) for j in range(4)]"
   ]
  },
  {
   "cell_type": "code",
   "execution_count": 15,
   "id": "6db69903-f200-4d5b-8a98-e4fb2797ffc2",
   "metadata": {},
   "outputs": [
    {
     "name": "stdout",
     "output_type": "stream",
     "text": [
      "test 0 printing i 0 Tue Feb 21 06:20:03 2023test 1 printing i 0 Tue Feb 21 06:20:03 2023\n",
      "\n",
      "test 2 printing i 0 Tue Feb 21 06:20:03 2023\n",
      "test 3 printing i 0 Tue Feb 21 06:20:03 2023\n"
     ]
    }
   ],
   "source": [
    "for t in thread2:\n",
    "    t.start()"
   ]
  },
  {
   "cell_type": "code",
   "execution_count": 16,
   "id": "61f29eec-0697-499e-a167-7619bd143f54",
   "metadata": {},
   "outputs": [
    {
     "name": "stdout",
     "output_type": "stream",
     "text": [
      "test 5 printing i 0 Tue Feb 21 06:20:03 2023\n",
      "test 0 printing i 1 Tue Feb 21 06:20:04 2023\n",
      "test 1 printing i 1 Tue Feb 21 06:20:04 2023\n",
      "test 2 printing i 1 Tue Feb 21 06:20:04 2023\n",
      "test 3 printing i 1 Tue Feb 21 06:20:04 2023\n",
      "test 5 printing i 1 Tue Feb 21 06:20:04 2023\n",
      "test 0 printing i 2 Tue Feb 21 06:20:05 2023\n",
      "test 1 printing i 2 Tue Feb 21 06:20:05 2023\n",
      "test 2 printing i 2 Tue Feb 21 06:20:05 2023\n",
      "test 3 printing i 2 Tue Feb 21 06:20:05 2023\n",
      "test 5 printing i 2 Tue Feb 21 06:20:05 2023\n",
      "test 0 printing i 3 Tue Feb 21 06:20:06 2023test 3 printing i 3 Tue Feb 21 06:20:06 2023\n",
      "\n",
      "test 1 printing i 3 Tue Feb 21 06:20:06 2023\n",
      "test 2 printing i 3 Tue Feb 21 06:20:06 2023\n",
      "test 5 printing i 3 Tue Feb 21 06:20:06 2023\n",
      "test 3 printing i 4 Tue Feb 21 06:20:07 2023test 1 printing i 4 Tue Feb 21 06:20:07 2023\n",
      "test 0 printing i 4 Tue Feb 21 06:20:07 2023\n",
      "\n",
      "test 2 printing i 4 Tue Feb 21 06:20:07 2023\n",
      "test 5 printing i 4 Tue Feb 21 06:20:07 2023\n",
      "test 1 printing i 5 Tue Feb 21 06:20:08 2023\n",
      "test 3 printing i 5 Tue Feb 21 06:20:08 2023\n",
      "test 2 printing i 5 Tue Feb 21 06:20:08 2023\n",
      "test 0 printing i 5 Tue Feb 21 06:20:08 2023\n",
      "test 5 printing i 5 Tue Feb 21 06:20:08 2023\n",
      "test 1 printing i 6 Tue Feb 21 06:20:09 2023test 3 printing i 6 Tue Feb 21 06:20:09 2023\n",
      "test 2 printing i 6 Tue Feb 21 06:20:09 2023\n",
      "\n",
      "test 0 printing i 6 Tue Feb 21 06:20:09 2023\n",
      "test 5 printing i 6 Tue Feb 21 06:20:09 2023\n",
      "test 3 printing i 7 Tue Feb 21 06:20:10 2023test 2 printing i 7 Tue Feb 21 06:20:10 2023\n",
      "test 1 printing i 7 Tue Feb 21 06:20:10 2023\n",
      "\n",
      "test 0 printing i 7 Tue Feb 21 06:20:10 2023\n",
      "test 5 printing i 7 Tue Feb 21 06:20:10 2023\n",
      "test 2 printing i 8 Tue Feb 21 06:20:11 2023test 0 printing i 8 Tue Feb 21 06:20:11 2023\n",
      "\n",
      "test 1 printing i 8 Tue Feb 21 06:20:11 2023\n",
      "test 3 printing i 8 Tue Feb 21 06:20:11 2023\n",
      "test 5 printing i 8 Tue Feb 21 06:20:11 2023\n",
      "test 0 printing i 9 Tue Feb 21 06:20:12 2023test 3 printing i 9 Tue Feb 21 06:20:12 2023\n",
      "test 1 printing i 9 Tue Feb 21 06:20:12 2023\n",
      "test 2 printing i 9 Tue Feb 21 06:20:12 2023\n",
      "\n",
      "test 5 printing i 9 Tue Feb 21 06:20:12 2023\n"
     ]
    }
   ],
   "source": [
    "test1(5)"
   ]
  },
  {
   "cell_type": "code",
   "execution_count": 32,
   "id": "17b39d6e-df1e-4e75-9918-07ceeff45602",
   "metadata": {},
   "outputs": [],
   "source": [
    "#modifying a shared variable \n",
    "shared_var=0\n",
    "lock_var=threading.Lock()\n",
    "def test2(id):\n",
    "    global shared_var\n",
    "    with lock_var:\n",
    "        shared_var+=1\n",
    "        print(\"test2 is %d has inc. the value of shared var by %d\" %(id,shared_var))\n",
    "        time.sleep(1)\n",
    "thread3= [threading.Thread(target = test2, args=(j,)) for j in range(3)]"
   ]
  },
  {
   "cell_type": "code",
   "execution_count": 33,
   "id": "4e937623-8991-4283-b409-e3533b4a0b4c",
   "metadata": {},
   "outputs": [
    {
     "name": "stdout",
     "output_type": "stream",
     "text": [
      "test2 is 0 has inc. the value of shared var by 1\n",
      "test2 is 1 has inc. the value of shared var by 2\n",
      "test2 is 2 has inc. the value of shared var by 3\n"
     ]
    }
   ],
   "source": [
    "for t in thread3:\n",
    "    t.start()"
   ]
  },
  {
   "cell_type": "code",
   "execution_count": null,
   "id": "c01d7d3a-d222-4619-b482-63857810f5ec",
   "metadata": {},
   "outputs": [],
   "source": []
  }
 ],
 "metadata": {
  "kernelspec": {
   "display_name": "Python 3 (ipykernel)",
   "language": "python",
   "name": "python3"
  },
  "language_info": {
   "codemirror_mode": {
    "name": "ipython",
    "version": 3
   },
   "file_extension": ".py",
   "mimetype": "text/x-python",
   "name": "python",
   "nbconvert_exporter": "python",
   "pygments_lexer": "ipython3",
   "version": "3.10.8"
  }
 },
 "nbformat": 4,
 "nbformat_minor": 5
}
